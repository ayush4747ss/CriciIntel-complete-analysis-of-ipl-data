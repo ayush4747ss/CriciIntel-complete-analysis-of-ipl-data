{
 "cells": [
  {
   "cell_type": "code",
   "execution_count": 195,
   "id": "e1cd4a0f",
   "metadata": {},
   "outputs": [],
   "source": [
    "import pandas as pd\n",
    "import numpy as np\n",
    "import matplotlib.pyplot as plt\n",
    "import seaborn as sns\n",
    "import plotly.express as px\n",
    "import plotly\n",
    "import os"
   ]
  },
  {
   "cell_type": "code",
   "execution_count": 197,
   "id": "63c86a53",
   "metadata": {},
   "outputs": [
    {
     "data": {
      "text/html": [
       "<div>\n",
       "<style scoped>\n",
       "    .dataframe tbody tr th:only-of-type {\n",
       "        vertical-align: middle;\n",
       "    }\n",
       "\n",
       "    .dataframe tbody tr th {\n",
       "        vertical-align: top;\n",
       "    }\n",
       "\n",
       "    .dataframe thead th {\n",
       "        text-align: right;\n",
       "    }\n",
       "</style>\n",
       "<table border=\"1\" class=\"dataframe\">\n",
       "  <thead>\n",
       "    <tr style=\"text-align: right;\">\n",
       "      <th></th>\n",
       "      <th>match_id</th>\n",
       "      <th>season</th>\n",
       "      <th>match_no</th>\n",
       "      <th>date</th>\n",
       "      <th>venue</th>\n",
       "      <th>batting_team</th>\n",
       "      <th>bowling_team</th>\n",
       "      <th>innings</th>\n",
       "      <th>over</th>\n",
       "      <th>striker</th>\n",
       "      <th>bowler</th>\n",
       "      <th>runs_of_bat</th>\n",
       "      <th>extras</th>\n",
       "      <th>wide</th>\n",
       "      <th>legbyes</th>\n",
       "      <th>byes</th>\n",
       "      <th>noballs</th>\n",
       "      <th>wicket_type</th>\n",
       "      <th>player_dismissed</th>\n",
       "      <th>fielder</th>\n",
       "    </tr>\n",
       "  </thead>\n",
       "  <tbody>\n",
       "    <tr>\n",
       "      <th>0</th>\n",
       "      <td>202201</td>\n",
       "      <td>2022</td>\n",
       "      <td>1</td>\n",
       "      <td>Mar 26, 2022</td>\n",
       "      <td>Wankhede Stadium, Mumbai</td>\n",
       "      <td>CSK</td>\n",
       "      <td>KKR</td>\n",
       "      <td>1</td>\n",
       "      <td>0.1</td>\n",
       "      <td>Gaikwad</td>\n",
       "      <td>Umesh Yadav</td>\n",
       "      <td>0</td>\n",
       "      <td>1</td>\n",
       "      <td>0</td>\n",
       "      <td>0</td>\n",
       "      <td>0</td>\n",
       "      <td>1</td>\n",
       "      <td>NaN</td>\n",
       "      <td>NaN</td>\n",
       "      <td>NaN</td>\n",
       "    </tr>\n",
       "    <tr>\n",
       "      <th>1</th>\n",
       "      <td>202201</td>\n",
       "      <td>2022</td>\n",
       "      <td>1</td>\n",
       "      <td>Mar 26, 2022</td>\n",
       "      <td>Wankhede Stadium, Mumbai</td>\n",
       "      <td>CSK</td>\n",
       "      <td>KKR</td>\n",
       "      <td>1</td>\n",
       "      <td>0.1</td>\n",
       "      <td>Gaikwad</td>\n",
       "      <td>Umesh Yadav</td>\n",
       "      <td>0</td>\n",
       "      <td>0</td>\n",
       "      <td>0</td>\n",
       "      <td>0</td>\n",
       "      <td>0</td>\n",
       "      <td>0</td>\n",
       "      <td>NaN</td>\n",
       "      <td>NaN</td>\n",
       "      <td>NaN</td>\n",
       "    </tr>\n",
       "    <tr>\n",
       "      <th>2</th>\n",
       "      <td>202201</td>\n",
       "      <td>2022</td>\n",
       "      <td>1</td>\n",
       "      <td>Mar 26, 2022</td>\n",
       "      <td>Wankhede Stadium, Mumbai</td>\n",
       "      <td>CSK</td>\n",
       "      <td>KKR</td>\n",
       "      <td>1</td>\n",
       "      <td>0.2</td>\n",
       "      <td>Gaikwad</td>\n",
       "      <td>Umesh Yadav</td>\n",
       "      <td>0</td>\n",
       "      <td>1</td>\n",
       "      <td>1</td>\n",
       "      <td>0</td>\n",
       "      <td>0</td>\n",
       "      <td>0</td>\n",
       "      <td>NaN</td>\n",
       "      <td>NaN</td>\n",
       "      <td>NaN</td>\n",
       "    </tr>\n",
       "    <tr>\n",
       "      <th>3</th>\n",
       "      <td>202201</td>\n",
       "      <td>2022</td>\n",
       "      <td>1</td>\n",
       "      <td>Mar 26, 2022</td>\n",
       "      <td>Wankhede Stadium, Mumbai</td>\n",
       "      <td>CSK</td>\n",
       "      <td>KKR</td>\n",
       "      <td>1</td>\n",
       "      <td>0.2</td>\n",
       "      <td>Gaikwad</td>\n",
       "      <td>Umesh Yadav</td>\n",
       "      <td>0</td>\n",
       "      <td>0</td>\n",
       "      <td>0</td>\n",
       "      <td>0</td>\n",
       "      <td>0</td>\n",
       "      <td>0</td>\n",
       "      <td>NaN</td>\n",
       "      <td>NaN</td>\n",
       "      <td>NaN</td>\n",
       "    </tr>\n",
       "    <tr>\n",
       "      <th>4</th>\n",
       "      <td>202201</td>\n",
       "      <td>2022</td>\n",
       "      <td>1</td>\n",
       "      <td>Mar 26, 2022</td>\n",
       "      <td>Wankhede Stadium, Mumbai</td>\n",
       "      <td>CSK</td>\n",
       "      <td>KKR</td>\n",
       "      <td>1</td>\n",
       "      <td>0.3</td>\n",
       "      <td>Gaikwad</td>\n",
       "      <td>Umesh Yadav</td>\n",
       "      <td>0</td>\n",
       "      <td>0</td>\n",
       "      <td>0</td>\n",
       "      <td>0</td>\n",
       "      <td>0</td>\n",
       "      <td>0</td>\n",
       "      <td>caught</td>\n",
       "      <td>Gaikwad</td>\n",
       "      <td>Nitish Rana</td>\n",
       "    </tr>\n",
       "  </tbody>\n",
       "</table>\n",
       "</div>"
      ],
      "text/plain": [
       "   match_id  season  match_no          date                     venue  \\\n",
       "0    202201    2022         1  Mar 26, 2022  Wankhede Stadium, Mumbai   \n",
       "1    202201    2022         1  Mar 26, 2022  Wankhede Stadium, Mumbai   \n",
       "2    202201    2022         1  Mar 26, 2022  Wankhede Stadium, Mumbai   \n",
       "3    202201    2022         1  Mar 26, 2022  Wankhede Stadium, Mumbai   \n",
       "4    202201    2022         1  Mar 26, 2022  Wankhede Stadium, Mumbai   \n",
       "\n",
       "  batting_team bowling_team  innings  over  striker       bowler  runs_of_bat  \\\n",
       "0          CSK          KKR        1   0.1  Gaikwad  Umesh Yadav            0   \n",
       "1          CSK          KKR        1   0.1  Gaikwad  Umesh Yadav            0   \n",
       "2          CSK          KKR        1   0.2  Gaikwad  Umesh Yadav            0   \n",
       "3          CSK          KKR        1   0.2  Gaikwad  Umesh Yadav            0   \n",
       "4          CSK          KKR        1   0.3  Gaikwad  Umesh Yadav            0   \n",
       "\n",
       "   extras  wide  legbyes  byes  noballs wicket_type player_dismissed  \\\n",
       "0       1     0        0     0        1         NaN              NaN   \n",
       "1       0     0        0     0        0         NaN              NaN   \n",
       "2       1     1        0     0        0         NaN              NaN   \n",
       "3       0     0        0     0        0         NaN              NaN   \n",
       "4       0     0        0     0        0      caught          Gaikwad   \n",
       "\n",
       "       fielder  \n",
       "0          NaN  \n",
       "1          NaN  \n",
       "2          NaN  \n",
       "3          NaN  \n",
       "4  Nitish Rana  "
      ]
     },
     "execution_count": 197,
     "metadata": {},
     "output_type": "execute_result"
    }
   ],
   "source": [
    "data=pd.read_csv(\"ipl_2022_deliveries.csv\")\n",
    "data.head()"
   ]
  },
  {
   "cell_type": "code",
   "execution_count": 198,
   "id": "be776cae",
   "metadata": {},
   "outputs": [
    {
     "name": "stdout",
     "output_type": "stream",
     "text": [
      "DataTypes\n"
     ]
    },
    {
     "data": {
      "text/plain": [
       "match_id              int64\n",
       "season                int64\n",
       "match_no              int64\n",
       "date                 object\n",
       "venue                object\n",
       "batting_team         object\n",
       "bowling_team         object\n",
       "innings               int64\n",
       "over                float64\n",
       "striker              object\n",
       "bowler               object\n",
       "runs_of_bat           int64\n",
       "extras                int64\n",
       "wide                  int64\n",
       "legbyes               int64\n",
       "byes                  int64\n",
       "noballs               int64\n",
       "wicket_type          object\n",
       "player_dismissed     object\n",
       "fielder              object\n",
       "dtype: object"
      ]
     },
     "execution_count": 198,
     "metadata": {},
     "output_type": "execute_result"
    }
   ],
   "source": [
    "print(\"DataTypes\")\n",
    "data.dtypes"
   ]
  },
  {
   "cell_type": "code",
   "execution_count": 199,
   "id": "57d32a3b",
   "metadata": {},
   "outputs": [
    {
     "name": "stdout",
     "output_type": "stream",
     "text": [
      "match_id                0\n",
      "season                  0\n",
      "match_no                0\n",
      "date                    0\n",
      "venue                   0\n",
      "batting_team            0\n",
      "bowling_team            0\n",
      "innings                 0\n",
      "over                    0\n",
      "striker                 0\n",
      "bowler                  0\n",
      "runs_of_bat             0\n",
      "extras                  0\n",
      "wide                    0\n",
      "legbyes                 0\n",
      "byes                    0\n",
      "noballs                 0\n",
      "wicket_type         17001\n",
      "player_dismissed    17005\n",
      "fielder             17183\n",
      "dtype: int64\n"
     ]
    }
   ],
   "source": [
    "#nan means not a number generally having float as its string type but here its object(string) because its stored as \"nan\"\n",
    "missing_values=data.isnull().sum()\n",
    "print(missing_values)\n",
    "data.drop_duplicates(inplace=True)"
   ]
  },
  {
   "cell_type": "code",
   "execution_count": 200,
   "id": "f510d6aa",
   "metadata": {},
   "outputs": [
    {
     "name": "stdout",
     "output_type": "stream",
     "text": [
      "match_id                0\n",
      "season                  0\n",
      "match_no                0\n",
      "date                    0\n",
      "venue                   0\n",
      "batting_team            0\n",
      "bowling_team            0\n",
      "innings                 0\n",
      "over                    0\n",
      "striker                 0\n",
      "bowler                  0\n",
      "runs_of_bat             0\n",
      "extras                  0\n",
      "wide                    0\n",
      "legbyes                 0\n",
      "byes                    0\n",
      "noballs                 0\n",
      "wicket_type         16967\n",
      "player_dismissed    16971\n",
      "fielder             17149\n",
      "dtype: int64\n"
     ]
    }
   ],
   "source": [
    "data.head()\n",
    "missing_values=data.isnull().sum()\n",
    "print(missing_values)"
   ]
  },
  {
   "cell_type": "code",
   "execution_count": 201,
   "id": "36c548eb",
   "metadata": {},
   "outputs": [
    {
     "name": "stdout",
     "output_type": "stream",
     "text": [
      "<bound method NDFrame.describe of        match_id  season  match_no          date  \\\n",
      "0        202201    2022         1  Mar 26, 2022   \n",
      "1        202201    2022         1  Mar 26, 2022   \n",
      "2        202201    2022         1  Mar 26, 2022   \n",
      "3        202201    2022         1  Mar 26, 2022   \n",
      "4        202201    2022         1  Mar 26, 2022   \n",
      "...         ...     ...       ...           ...   \n",
      "17907    202274    2022        74  May 29, 2022   \n",
      "17908    202274    2022        74  May 29, 2022   \n",
      "17909    202274    2022        74  May 29, 2022   \n",
      "17910    202274    2022        74  May 29, 2022   \n",
      "17911    202274    2022        74  May 29, 2022   \n",
      "\n",
      "                                  venue batting_team bowling_team  innings  \\\n",
      "0              Wankhede Stadium, Mumbai          CSK          KKR        1   \n",
      "1              Wankhede Stadium, Mumbai          CSK          KKR        1   \n",
      "2              Wankhede Stadium, Mumbai          CSK          KKR        1   \n",
      "3              Wankhede Stadium, Mumbai          CSK          KKR        1   \n",
      "4              Wankhede Stadium, Mumbai          CSK          KKR        1   \n",
      "...                                 ...          ...          ...      ...   \n",
      "17907  Narendra Modi Stadium, Ahmedabad           GT           RR        2   \n",
      "17908  Narendra Modi Stadium, Ahmedabad           GT           RR        2   \n",
      "17909  Narendra Modi Stadium, Ahmedabad           GT           RR        2   \n",
      "17910  Narendra Modi Stadium, Ahmedabad           GT           RR        2   \n",
      "17911  Narendra Modi Stadium, Ahmedabad           GT           RR        2   \n",
      "\n",
      "       over       striker       bowler  runs_of_bat  extras  wide  legbyes  \\\n",
      "0       0.1       Gaikwad  Umesh Yadav            0       1     0        0   \n",
      "1       0.1       Gaikwad  Umesh Yadav            0       0     0        0   \n",
      "2       0.2       Gaikwad  Umesh Yadav            0       1     1        0   \n",
      "3       0.2       Gaikwad  Umesh Yadav            0       0     0        0   \n",
      "4       0.3       Gaikwad  Umesh Yadav            0       0     0        0   \n",
      "...     ...           ...          ...          ...     ...   ...      ...   \n",
      "17907  17.3        Miller       Ashwin            1       0     0        0   \n",
      "17908  17.4  Shubman Gill       Ashwin            0       0     0        0   \n",
      "17909  17.5  Shubman Gill       Ashwin            1       0     0        0   \n",
      "17910  17.6        Miller       Ashwin            2       0     0        0   \n",
      "17911  18.1  Shubman Gill   Obed McCoy            6       0     0        0   \n",
      "\n",
      "       byes  noballs wicket_type player_dismissed      fielder  \n",
      "0         0        1         NaN              NaN          NaN  \n",
      "1         0        0         NaN              NaN          NaN  \n",
      "2         0        0         NaN              NaN          NaN  \n",
      "3         0        0         NaN              NaN          NaN  \n",
      "4         0        0      caught          Gaikwad  Nitish Rana  \n",
      "...     ...      ...         ...              ...          ...  \n",
      "17907     0        0         NaN              NaN          NaN  \n",
      "17908     0        0         NaN              NaN          NaN  \n",
      "17909     0        0         NaN              NaN          NaN  \n",
      "17910     0        0         NaN              NaN          NaN  \n",
      "17911     0        0         NaN              NaN          NaN  \n",
      "\n",
      "[17878 rows x 20 columns]>\n"
     ]
    }
   ],
   "source": [
    "print(data.describe)"
   ]
  },
  {
   "cell_type": "code",
   "execution_count": 202,
   "id": "eef18251",
   "metadata": {},
   "outputs": [
    {
     "name": "stdout",
     "output_type": "stream",
     "text": [
      "hi\n"
     ]
    }
   ],
   "source": [
    "print(\"hi\")"
   ]
  },
  {
   "cell_type": "code",
   "execution_count": 203,
   "id": "ee9fe070",
   "metadata": {},
   "outputs": [
    {
     "name": "stdout",
     "output_type": "stream",
     "text": [
      "date:62 unique values\n",
      "venue:6 unique values\n",
      "batting_team:10 unique values\n",
      "bowling_team:10 unique values\n",
      "striker:174 unique values\n",
      "bowler:125 unique values\n",
      "wicket_type:7 unique values\n",
      "player_dismissed:164 unique values\n",
      "fielder:200 unique values\n",
      "['caught' 'stumped' 'runout' 'bowled' 'lbw' 'retired out' 'hit wicket']\n"
     ]
    }
   ],
   "source": [
    "# this will return the list of columns containing only string as values and for numerical put \"number\"\n",
    "categorical_column=data.select_dtypes(include=['object']).columns \n",
    "for i in categorical_column:\n",
    "    print(f\"{i}:{data[i].nunique()} unique values\")\n",
    "    \n",
    "    \n",
    "#example to get the list of unique values    \n",
    "\n",
    "#in this unique() function i will get nan to not get nan we can drop nan from output using .dropna().unique()\n",
    "print(data[\"wicket_type\"].dropna().unique())"
   ]
  },
  {
   "cell_type": "code",
   "execution_count": 151,
   "id": "241e8c62",
   "metadata": {},
   "outputs": [
    {
     "name": "stdout",
     "output_type": "stream",
     "text": [
      "[nan 'caught' 'stumped' 'runout' 'bowled' 'lbw' 'retired out' 'hit wicket']\n"
     ]
    }
   ],
   "source": []
  },
  {
   "cell_type": "code",
   "execution_count": 204,
   "id": "629c2015",
   "metadata": {},
   "outputs": [
    {
     "name": "stdout",
     "output_type": "stream",
     "text": [
      "Total runs scored in IPL 2022 is 25375\n"
     ]
    }
   ],
   "source": [
    "data = data.fillna(0)\n",
    "total_runs_ipl=data[\"runs_of_bat\"]+data[\"extras\"]+data[\"wide\"]+data[\"legbyes\"]+data[\"byes\"]+data[\"noballs\"]\n",
    "data[\"total_runs_ipl\"] = total_runs_ipl\n",
    "total_runs = sum(data[\"total_runs_ipl\"])\n",
    "print(f\"Total runs scored in IPL 2022 is {total_runs}\")\n"
   ]
  },
  {
   "cell_type": "code",
   "execution_count": 205,
   "id": "1a15e9b8",
   "metadata": {},
   "outputs": [
    {
     "data": {
      "image/png": "[encoded data removed]",
      "text/plain": [
       "<Figure size 1800x1200 with 1 Axes>"
      ]
     },
     "metadata": {},
     "output_type": "display_data"
    }
   ],
   "source": [
    "# total run scored by each team in ipl 2022\n",
    "# .reset_index() is very important becaue When you perform operations \n",
    "#like grouping or filtering data, the original index may no longer be meaningful or may not follow a sequential pattern.\n",
    "#The .reset_index() method is typically used after such operations to restore the default integer index, starting from 0,\n",
    "#and move the original index (if it exists) into a new column in the DataFrame\n",
    "\n",
    "\n",
    "team_run=data.groupby('batting_team')['total_runs_ipl'].sum().reset_index()\n",
    "plt.figure(figsize=(18, 12))\n",
    "\n",
    "# this will produce random team without any order of ascending or descending\n",
    "#to get in ascending or descending order \n",
    "team_run=team_run.sort_values(by=\"total_runs_ipl\",ascending=False)\n",
    "\n",
    "sns.barplot(x=\"batting_team\",y=\"total_runs_ipl\", data=team_run,palette=\"magma\")\n",
    "plt.title(\"total run scored by each team in ipl 2022\",fontsize=24)\n",
    "plt.xlabel(\"Teams\",fontsize=24)\n",
    "plt.ylabel(\"Total runs\",fontsize=24)\n",
    "plt.show()"
   ]
  },
  {
   "cell_type": "code",
   "execution_count": 206,
   "id": "5f34ca83",
   "metadata": {},
   "outputs": [
    {
     "data": {
      "application/vnd.plotly.v1+json": {
       "config": {
        "plotlyServerURL": "https://plot.ly"
       },
       "data": [
        {
         "alignmentgroup": "True",
         "hovertemplate": "batting_team=%{x}<br>total_runs_ipl=%{y}<extra></extra>",
         "legendgroup": "",
         "marker": {
          "color": "#636efa",
          "pattern": {
           "shape": ""
          }
         },
         "name": "",
         "offsetgroup": "",
         "orientation": "v",
         "showlegend": false,
         "textposition": "auto",
         "type": "bar",
         "x": [
          "DC",
          "RR",
          "PBKS",
          "LSG",
          "KKR",
          "RCB",
          "GT",
          "SRH",
          "CSK",
          "MI"
         ],
         "xaxis": "x",
         "y": [
          1.475121359223301,
          1.4504034171808258,
          1.4413833528722158,
          1.4412889131622064,
          1.4219228413962033,
          1.4042879019908117,
          1.4040609137055837,
          1.4003701418877237,
          1.3852889667250439,
          1.365680473372781
         ],
         "yaxis": "y"
        }
       ],
       "layout": {
        "barmode": "relative",
        "height": 500,
        "legend": {
         "tracegroupgap": 0
        },
        "template": {
         "data": {
          "bar": [
           {
            "error_x": {
             "color": "#2a3f5f"
            },
            "error_y": {
             "color": "#2a3f5f"
            },
            "marker": {
             "line": {
              "color": "#E5ECF6",
              "width": 0.5
             },
             "pattern": {
              "fillmode": "overlay",
              "size": 10,
              "solidity": 0.2
             }
            },
            "type": "bar"
           }
          ],
          "barpolar": [
           {
            "marker": {
             "line": {
              "color": "#E5ECF6",
              "width": 0.5
             },
             "pattern": {
              "fillmode": "overlay",
              "size": 10,
              "solidity": 0.2
             }
            },
            "type": "barpolar"
           }
          ],
          "carpet": [
           {
            "aaxis": {
             "endlinecolor": "#2a3f5f",
             "gridcolor": "white",
             "linecolor": "white",
             "minorgridcolor": "white",
             "startlinecolor": "#2a3f5f"
            },
            "baxis": {
             "endlinecolor": "#2a3f5f",
             "gridcolor": "white",
             "linecolor": "white",
             "minorgridcolor": "white",
             "startlinecolor": "#2a3f5f"
            },
            "type": "carpet"
           }
          ],
          "choropleth": [
           {
            "colorbar": {
             "outlinewidth": 0,
             "ticks": ""
            },
            "type": "choropleth"
           }
          ],
          "contour": [
           {
            "colorbar": {
             "outlinewidth": 0,
             "ticks": ""
            },
            "colorscale": [
             [
              0,
              "#0d0887"
             ],
             [
              0.1111111111111111,
              "#46039f"
             ],
             [
              0.2222222222222222,
              "#7201a8"
             ],
             [
              0.3333333333333333,
              "#9c179e"
             ],
             [
              0.4444444444444444,
              "#bd3786"
             ],
             [
              0.5555555555555556,
              "#d8576b"
             ],
             [
              0.6666666666666666,
              "#ed7953"
             ],
             [
              0.7777777777777778,
              "#fb9f3a"
             ],
             [
              0.8888888888888888,
              "#fdca26"
             ],
             [
              1,
              "#f0f921"
             ]
            ],
            "type": "contour"
           }
          ],
          "contourcarpet": [
           {
            "colorbar": {
             "outlinewidth": 0,
             "ticks": ""
            },
            "type": "contourcarpet"
           }
          ],
          "heatmap": [
           {
            "colorbar": {
             "outlinewidth": 0,
             "ticks": ""
            },
            "colorscale": [
             [
              0,
              "#0d0887"
             ],
             [
              0.1111111111111111,
              "#46039f"
             ],
             [
              0.2222222222222222,
              "#7201a8"
             ],
             [
              0.3333333333333333,
              "#9c179e"
             ],
             [
              0.4444444444444444,
              "#bd3786"
             ],
             [
              0.5555555555555556,
              "#d8576b"
             ],
             [
              0.6666666666666666,
              "#ed7953"
             ],
             [
              0.7777777777777778,
              "#fb9f3a"
             ],
             [
              0.8888888888888888,
              "#fdca26"
             ],
             [
              1,
              "#f0f921"
             ]
            ],
            "type": "heatmap"
           }
          ],
          "heatmapgl": [
           {
            "colorbar": {
             "outlinewidth": 0,
             "ticks": ""
            },
            "colorscale": [
             [
              0,
              "#0d0887"
             ],
             [
              0.1111111111111111,
              "#46039f"
             ],
             [
              0.2222222222222222,
              "#7201a8"
             ],
             [
              0.3333333333333333,
              "#9c179e"
             ],
             [
              0.4444444444444444,
              "#bd3786"
             ],
             [
              0.5555555555555556,
              "#d8576b"
             ],
             [
              0.6666666666666666,
              "#ed7953"
             ],
             [
              0.7777777777777778,
              "#fb9f3a"
             ],
             [
              0.8888888888888888,
              "#fdca26"
             ],
             [
              1,
              "#f0f921"
             ]
            ],
            "type": "heatmapgl"
           }
          ],
          "histogram": [
           {
            "marker": {
             "pattern": {
              "fillmode": "overlay",
              "size": 10,
              "solidity": 0.2
             }
            },
            "type": "histogram"
           }
          ],
          "histogram2d": [
           {
            "colorbar": {
             "outlinewidth": 0,
             "ticks": ""
            },
            "colorscale": [
             [
              0,
              "#0d0887"
             ],
             [
              0.1111111111111111,
              "#46039f"
             ],
             [
              0.2222222222222222,
              "#7201a8"
             ],
             [
              0.3333333333333333,
              "#9c179e"
             ],
             [
              0.4444444444444444,
              "#bd3786"
             ],
             [
              0.5555555555555556,
              "#d8576b"
             ],
             [
              0.6666666666666666,
              "#ed7953"
             ],
             [
              0.7777777777777778,
              "#fb9f3a"
             ],
             [
              0.8888888888888888,
              "#fdca26"
             ],
             [
              1,
              "#f0f921"
             ]
            ],
            "type": "histogram2d"
           }
          ],
          "histogram2dcontour": [
           {
            "colorbar": {
             "outlinewidth": 0,
             "ticks": ""
            },
            "colorscale": [
             [
              0,
              "#0d0887"
             ],
             [
              0.1111111111111111,
              "#46039f"
             ],
             [
              0.2222222222222222,
              "#7201a8"
             ],
             [
              0.3333333333333333,
              "#9c179e"
             ],
             [
              0.4444444444444444,
              "#bd3786"
             ],
             [
              0.5555555555555556,
              "#d8576b"
             ],
             [
              0.6666666666666666,
              "#ed7953"
             ],
             [
              0.7777777777777778,
              "#fb9f3a"
             ],
             [
              0.8888888888888888,
              "#fdca26"
             ],
             [
              1,
              "#f0f921"
             ]
            ],
            "type": "histogram2dcontour"
           }
          ],
          "mesh3d": [
           {
            "colorbar": {
             "outlinewidth": 0,
             "ticks": ""
            },
            "type": "mesh3d"
           }
          ],
          "parcoords": [
           {
            "line": {
             "colorbar": {
              "outlinewidth": 0,
              "ticks": ""
             }
            },
            "type": "parcoords"
           }
          ],
          "pie": [
           {
            "automargin": true,
            "type": "pie"
           }
          ],
          "scatter": [
           {
            "fillpattern": {
             "fillmode": "overlay",
             "size": 10,
             "solidity": 0.2
            },
            "type": "scatter"
           }
          ],
          "scatter3d": [
           {
            "line": {
             "colorbar": {
              "outlinewidth": 0,
              "ticks": ""
             }
            },
            "marker": {
             "colorbar": {
              "outlinewidth": 0,
              "ticks": ""
             }
            },
            "type": "scatter3d"
           }
          ],
          "scattercarpet": [
           {
            "marker": {
             "colorbar": {
              "outlinewidth": 0,
              "ticks": ""
             }
            },
            "type": "scattercarpet"
           }
          ],
          "scattergeo": [
           {
            "marker": {
             "colorbar": {
              "outlinewidth": 0,
              "ticks": ""
             }
            },
            "type": "scattergeo"
           }
          ],
          "scattergl": [
           {
            "marker": {
             "colorbar": {
              "outlinewidth": 0,
              "ticks": ""
             }
            },
            "type": "scattergl"
           }
          ],
          "scattermapbox": [
           {
            "marker": {
             "colorbar": {
              "outlinewidth": 0,
              "ticks": ""
             }
            },
            "type": "scattermapbox"
           }
          ],
          "scatterpolar": [
           {
            "marker": {
             "colorbar": {
              "outlinewidth": 0,
              "ticks": ""
             }
            },
            "type": "scatterpolar"
           }
          ],
          "scatterpolargl": [
           {
            "marker": {
             "colorbar": {
              "outlinewidth": 0,
              "ticks": ""
             }
            },
            "type": "scatterpolargl"
           }
          ],
          "scatterternary": [
           {
            "marker": {
             "colorbar": {
              "outlinewidth": 0,
              "ticks": ""
             }
            },
            "type": "scatterternary"
           }
          ],
          "surface": [
           {
            "colorbar": {
             "outlinewidth": 0,
             "ticks": ""
            },
            "colorscale": [
             [
              0,
              "#0d0887"
             ],
             [
              0.1111111111111111,
              "#46039f"
             ],
             [
              0.2222222222222222,
              "#7201a8"
             ],
             [
              0.3333333333333333,
              "#9c179e"
             ],
             [
              0.4444444444444444,
              "#bd3786"
             ],
             [
              0.5555555555555556,
              "#d8576b"
             ],
             [
              0.6666666666666666,
              "#ed7953"
             ],
             [
              0.7777777777777778,
              "#fb9f3a"
             ],
             [
              0.8888888888888888,
              "#fdca26"
             ],
             [
              1,
              "#f0f921"
             ]
            ],
            "type": "surface"
           }
          ],
          "table": [
           {
            "cells": {
             "fill": {
              "color": "#EBF0F8"
             },
             "line": {
              "color": "white"
             }
            },
            "header": {
             "fill": {
              "color": "#C8D4E3"
             },
             "line": {
              "color": "white"
             }
            },
            "type": "table"
           }
          ]
         },
         "layout": {
          "annotationdefaults": {
           "arrowcolor": "#2a3f5f",
           "arrowhead": 0,
           "arrowwidth": 1
          },
          "autotypenumbers": "strict",
          "coloraxis": {
           "colorbar": {
            "outlinewidth": 0,
            "ticks": ""
           }
          },
          "colorscale": {
           "diverging": [
            [
             0,
             "#8e0152"
            ],
            [
             0.1,
             "#c51b7d"
            ],
            [
             0.2,
             "#de77ae"
            ],
            [
             0.3,
             "#f1b6da"
            ],
            [
             0.4,
             "#fde0ef"
            ],
            [
             0.5,
             "#f7f7f7"
            ],
            [
             0.6,
             "#e6f5d0"
            ],
            [
             0.7,
             "#b8e186"
            ],
            [
             0.8,
             "#7fbc41"
            ],
            [
             0.9,
             "#4d9221"
            ],
            [
             1,
             "#276419"
            ]
           ],
           "sequential": [
            [
             0,
             "#0d0887"
            ],
            [
             0.1111111111111111,
             "#46039f"
            ],
            [
             0.2222222222222222,
             "#7201a8"
            ],
            [
             0.3333333333333333,
             "#9c179e"
            ],
            [
             0.4444444444444444,
             "#bd3786"
            ],
            [
             0.5555555555555556,
             "#d8576b"
            ],
            [
             0.6666666666666666,
             "#ed7953"
            ],
            [
             0.7777777777777778,
             "#fb9f3a"
            ],
            [
             0.8888888888888888,
             "#fdca26"
            ],
            [
             1,
             "#f0f921"
            ]
           ],
           "sequentialminus": [
            [
             0,
             "#0d0887"
            ],
            [
             0.1111111111111111,
             "#46039f"
            ],
            [
             0.2222222222222222,
             "#7201a8"
            ],
            [
             0.3333333333333333,
             "#9c179e"
            ],
            [
             0.4444444444444444,
             "#bd3786"
            ],
            [
             0.5555555555555556,
             "#d8576b"
            ],
            [
             0.6666666666666666,
             "#ed7953"
            ],
            [
             0.7777777777777778,
             "#fb9f3a"
            ],
            [
             0.8888888888888888,
             "#fdca26"
            ],
            [
             1,
             "#f0f921"
            ]
           ]
          },
          "colorway": [
           "#636efa",
           "#EF553B",
           "#00cc96",
           "#ab63fa",
           "#FFA15A",
           "#19d3f3",
           "#FF6692",
           "#B6E880",
           "#FF97FF",
           "#FECB52"
          ],
          "font": {
           "color": "#2a3f5f"
          },
          "geo": {
           "bgcolor": "white",
           "lakecolor": "white",
           "landcolor": "#E5ECF6",
           "showlakes": true,
           "showland": true,
           "subunitcolor": "white"
          },
          "hoverlabel": {
           "align": "left"
          },
          "hovermode": "closest",
          "mapbox": {
           "style": "light"
          },
          "paper_bgcolor": "white",
          "plot_bgcolor": "#E5ECF6",
          "polar": {
           "angularaxis": {
            "gridcolor": "white",
            "linecolor": "white",
            "ticks": ""
           },
           "bgcolor": "#E5ECF6",
           "radialaxis": {
            "gridcolor": "white",
            "linecolor": "white",
            "ticks": ""
           }
          },
          "scene": {
           "xaxis": {
            "backgroundcolor": "#E5ECF6",
            "gridcolor": "white",
            "gridwidth": 2,
            "linecolor": "white",
            "showbackground": true,
            "ticks": "",
            "zerolinecolor": "white"
           },
           "yaxis": {
            "backgroundcolor": "#E5ECF6",
            "gridcolor": "white",
            "gridwidth": 2,
            "linecolor": "white",
            "showbackground": true,
            "ticks": "",
            "zerolinecolor": "white"
           },
           "zaxis": {
            "backgroundcolor": "#E5ECF6",
            "gridcolor": "white",
            "gridwidth": 2,
            "linecolor": "white",
            "showbackground": true,
            "ticks": "",
            "zerolinecolor": "white"
           }
          },
          "shapedefaults": {
           "line": {
            "color": "#2a3f5f"
           }
          },
          "ternary": {
           "aaxis": {
            "gridcolor": "white",
            "linecolor": "white",
            "ticks": ""
           },
           "baxis": {
            "gridcolor": "white",
            "linecolor": "white",
            "ticks": ""
           },
           "bgcolor": "#E5ECF6",
           "caxis": {
            "gridcolor": "white",
            "linecolor": "white",
            "ticks": ""
           }
          },
          "title": {
           "x": 0.05
          },
          "xaxis": {
           "automargin": true,
           "gridcolor": "white",
           "linecolor": "white",
           "ticks": "",
           "title": {
            "standoff": 15
           },
           "zerolinecolor": "white",
           "zerolinewidth": 2
          },
          "yaxis": {
           "automargin": true,
           "gridcolor": "white",
           "linecolor": "white",
           "ticks": "",
           "title": {
            "standoff": 15
           },
           "zerolinecolor": "white",
           "zerolinewidth": 2
          }
         }
        },
        "title": {
         "text": "Average runs scored by each team in IPL 2022"
        },
        "width": 900,
        "xaxis": {
         "anchor": "y",
         "domain": [
          0,
          1
         ],
         "title": {
          "text": "batting_team"
         }
        },
        "yaxis": {
         "anchor": "x",
         "domain": [
          0,
          1
         ],
         "title": {
          "text": "total_runs_ipl"
         }
        }
       }
      },
      "text/html": [
       "<div>                            <div id=\"1b98738e-77f0-4871-9f94-276fc7f01a4b\" class=\"plotly-graph-div\" style=\"height:500px; width:900px;\"></div>            <script type=\"text/javascript\">                require([\"plotly\"], function(Plotly) {                    window.PLOTLYENV=window.PLOTLYENV || {};                                    if (document.getElementById(\"1b98738e-77f0-4871-9f94-276fc7f01a4b\")) {                    Plotly.newPlot(                        \"1b98738e-77f0-4871-9f94-276fc7f01a4b\",                        [{\"alignmentgroup\":\"True\",\"hovertemplate\":\"batting_team=%{x}<br>total_runs_ipl=%{y}<extra></extra>\",\"legendgroup\":\"\",\"marker\":{\"color\":\"#636efa\",\"pattern\":{\"shape\":\"\"}},\"name\":\"\",\"offsetgroup\":\"\",\"orientation\":\"v\",\"showlegend\":false,\"textposition\":\"auto\",\"x\":[\"DC\",\"RR\",\"PBKS\",\"LSG\",\"KKR\",\"RCB\",\"GT\",\"SRH\",\"CSK\",\"MI\"],\"xaxis\":\"x\",\"y\":[1.475121359223301,1.4504034171808258,1.4413833528722158,1.4412889131622064,1.4219228413962033,1.4042879019908117,1.4040609137055837,1.4003701418877237,1.3852889667250439,1.365680473372781],\"yaxis\":\"y\",\"type\":\"bar\"}],                        {\"template\":{\"data\":{\"histogram2dcontour\":[{\"type\":\"histogram2dcontour\",\"colorbar\":{\"outlinewidth\":0,\"ticks\":\"\"},\"colorscale\":[[0.0,\"#0d0887\"],[0.1111111111111111,\"#46039f\"],[0.2222222222222222,\"#7201a8\"],[0.3333333333333333,\"#9c179e\"],[0.4444444444444444,\"#bd3786\"],[0.5555555555555556,\"#d8576b\"],[0.6666666666666666,\"#ed7953\"],[0.7777777777777778,\"#fb9f3a\"],[0.8888888888888888,\"#fdca26\"],[1.0,\"#f0f921\"]]}],\"choropleth\":[{\"type\":\"choropleth\",\"colorbar\":{\"outlinewidth\":0,\"ticks\":\"\"}}],\"histogram2d\":[{\"type\":\"histogram2d\",\"colorbar\":{\"outlinewidth\":0,\"ticks\":\"\"},\"colorscale\":[[0.0,\"#0d0887\"],[0.1111111111111111,\"#46039f\"],[0.2222222222222222,\"#7201a8\"],[0.3333333333333333,\"#9c179e\"],[0.4444444444444444,\"#bd3786\"],[0.5555555555555556,\"#d8576b\"],[0.6666666666666666,\"#ed7953\"],[0.7777777777777778,\"#fb9f3a\"],[0.8888888888888888,\"#fdca26\"],[1.0,\"#f0f921\"]]}],\"heatmap\":[{\"type\":\"heatmap\",\"colorbar\":{\"outlinewidth\":0,\"ticks\":\"\"},\"colorscale\":[[0.0,\"#0d0887\"],[0.1111111111111111,\"#46039f\"],[0.2222222222222222,\"#7201a8\"],[0.3333333333333333,\"#9c179e\"],[0.4444444444444444,\"#bd3786\"],[0.5555555555555556,\"#d8576b\"],[0.6666666666666666,\"#ed7953\"],[0.7777777777777778,\"#fb9f3a\"],[0.8888888888888888,\"#fdca26\"],[1.0,\"#f0f921\"]]}],\"heatmapgl\":[{\"type\":\"heatmapgl\",\"colorbar\":{\"outlinewidth\":0,\"ticks\":\"\"},\"colorscale\":[[0.0,\"#0d0887\"],[0.1111111111111111,\"#46039f\"],[0.2222222222222222,\"#7201a8\"],[0.3333333333333333,\"#9c179e\"],[0.4444444444444444,\"#bd3786\"],[0.5555555555555556,\"#d8576b\"],[0.6666666666666666,\"#ed7953\"],[0.7777777777777778,\"#fb9f3a\"],[0.8888888888888888,\"#fdca26\"],[1.0,\"#f0f921\"]]}],\"contourcarpet\":[{\"type\":\"contourcarpet\",\"colorbar\":{\"outlinewidth\":0,\"ticks\":\"\"}}],\"contour\":[{\"type\":\"contour\",\"colorbar\":{\"outlinewidth\":0,\"ticks\":\"\"},\"colorscale\":[[0.0,\"#0d0887\"],[0.1111111111111111,\"#46039f\"],[0.2222222222222222,\"#7201a8\"],[0.3333333333333333,\"#9c179e\"],[0.4444444444444444,\"#bd3786\"],[0.5555555555555556,\"#d8576b\"],[0.6666666666666666,\"#ed7953\"],[0.7777777777777778,\"#fb9f3a\"],[0.8888888888888888,\"#fdca26\"],[1.0,\"#f0f921\"]]}],\"surface\":[{\"type\":\"surface\",\"colorbar\":{\"outlinewidth\":0,\"ticks\":\"\"},\"colorscale\":[[0.0,\"#0d0887\"],[0.1111111111111111,\"#46039f\"],[0.2222222222222222,\"#7201a8\"],[0.3333333333333333,\"#9c179e\"],[0.4444444444444444,\"#bd3786\"],[0.5555555555555556,\"#d8576b\"],[0.6666666666666666,\"#ed7953\"],[0.7777777777777778,\"#fb9f3a\"],[0.8888888888888888,\"#fdca26\"],[1.0,\"#f0f921\"]]}],\"mesh3d\":[{\"type\":\"mesh3d\",\"colorbar\":{\"outlinewidth\":0,\"ticks\":\"\"}}],\"scatter\":[{\"fillpattern\":{\"fillmode\":\"overlay\",\"size\":10,\"solidity\":0.2},\"type\":\"scatter\"}],\"parcoords\":[{\"type\":\"parcoords\",\"line\":{\"colorbar\":{\"outlinewidth\":0,\"ticks\":\"\"}}}],\"scatterpolargl\":[{\"type\":\"scatterpolargl\",\"marker\":{\"colorbar\":{\"outlinewidth\":0,\"ticks\":\"\"}}}],\"bar\":[{\"error_x\":{\"color\":\"#2a3f5f\"},\"error_y\":{\"color\":\"#2a3f5f\"},\"marker\":{\"line\":{\"color\":\"#E5ECF6\",\"width\":0.5},\"pattern\":{\"fillmode\":\"overlay\",\"size\":10,\"solidity\":0.2}},\"type\":\"bar\"}],\"scattergeo\":[{\"type\":\"scattergeo\",\"marker\":{\"colorbar\":{\"outlinewidth\":0,\"ticks\":\"\"}}}],\"scatterpolar\":[{\"type\":\"scatterpolar\",\"marker\":{\"colorbar\":{\"outlinewidth\":0,\"ticks\":\"\"}}}],\"histogram\":[{\"marker\":{\"pattern\":{\"fillmode\":\"overlay\",\"size\":10,\"solidity\":0.2}},\"type\":\"histogram\"}],\"scattergl\":[{\"type\":\"scattergl\",\"marker\":{\"colorbar\":{\"outlinewidth\":0,\"ticks\":\"\"}}}],\"scatter3d\":[{\"type\":\"scatter3d\",\"line\":{\"colorbar\":{\"outlinewidth\":0,\"ticks\":\"\"}},\"marker\":{\"colorbar\":{\"outlinewidth\":0,\"ticks\":\"\"}}}],\"scattermapbox\":[{\"type\":\"scattermapbox\",\"marker\":{\"colorbar\":{\"outlinewidth\":0,\"ticks\":\"\"}}}],\"scatterternary\":[{\"type\":\"scatterternary\",\"marker\":{\"colorbar\":{\"outlinewidth\":0,\"ticks\":\"\"}}}],\"scattercarpet\":[{\"type\":\"scattercarpet\",\"marker\":{\"colorbar\":{\"outlinewidth\":0,\"ticks\":\"\"}}}],\"carpet\":[{\"aaxis\":{\"endlinecolor\":\"#2a3f5f\",\"gridcolor\":\"white\",\"linecolor\":\"white\",\"minorgridcolor\":\"white\",\"startlinecolor\":\"#2a3f5f\"},\"baxis\":{\"endlinecolor\":\"#2a3f5f\",\"gridcolor\":\"white\",\"linecolor\":\"white\",\"minorgridcolor\":\"white\",\"startlinecolor\":\"#2a3f5f\"},\"type\":\"carpet\"}],\"table\":[{\"cells\":{\"fill\":{\"color\":\"#EBF0F8\"},\"line\":{\"color\":\"white\"}},\"header\":{\"fill\":{\"color\":\"#C8D4E3\"},\"line\":{\"color\":\"white\"}},\"type\":\"table\"}],\"barpolar\":[{\"marker\":{\"line\":{\"color\":\"#E5ECF6\",\"width\":0.5},\"pattern\":{\"fillmode\":\"overlay\",\"size\":10,\"solidity\":0.2}},\"type\":\"barpolar\"}],\"pie\":[{\"automargin\":true,\"type\":\"pie\"}]},\"layout\":{\"autotypenumbers\":\"strict\",\"colorway\":[\"#636efa\",\"#EF553B\",\"#00cc96\",\"#ab63fa\",\"#FFA15A\",\"#19d3f3\",\"#FF6692\",\"#B6E880\",\"#FF97FF\",\"#FECB52\"],\"font\":{\"color\":\"#2a3f5f\"},\"hovermode\":\"closest\",\"hoverlabel\":{\"align\":\"left\"},\"paper_bgcolor\":\"white\",\"plot_bgcolor\":\"#E5ECF6\",\"polar\":{\"bgcolor\":\"#E5ECF6\",\"angularaxis\":{\"gridcolor\":\"white\",\"linecolor\":\"white\",\"ticks\":\"\"},\"radialaxis\":{\"gridcolor\":\"white\",\"linecolor\":\"white\",\"ticks\":\"\"}},\"ternary\":{\"bgcolor\":\"#E5ECF6\",\"aaxis\":{\"gridcolor\":\"white\",\"linecolor\":\"white\",\"ticks\":\"\"},\"baxis\":{\"gridcolor\":\"white\",\"linecolor\":\"white\",\"ticks\":\"\"},\"caxis\":{\"gridcolor\":\"white\",\"linecolor\":\"white\",\"ticks\":\"\"}},\"coloraxis\":{\"colorbar\":{\"outlinewidth\":0,\"ticks\":\"\"}},\"colorscale\":{\"sequential\":[[0.0,\"#0d0887\"],[0.1111111111111111,\"#46039f\"],[0.2222222222222222,\"#7201a8\"],[0.3333333333333333,\"#9c179e\"],[0.4444444444444444,\"#bd3786\"],[0.5555555555555556,\"#d8576b\"],[0.6666666666666666,\"#ed7953\"],[0.7777777777777778,\"#fb9f3a\"],[0.8888888888888888,\"#fdca26\"],[1.0,\"#f0f921\"]],\"sequentialminus\":[[0.0,\"#0d0887\"],[0.1111111111111111,\"#46039f\"],[0.2222222222222222,\"#7201a8\"],[0.3333333333333333,\"#9c179e\"],[0.4444444444444444,\"#bd3786\"],[0.5555555555555556,\"#d8576b\"],[0.6666666666666666,\"#ed7953\"],[0.7777777777777778,\"#fb9f3a\"],[0.8888888888888888,\"#fdca26\"],[1.0,\"#f0f921\"]],\"diverging\":[[0,\"#8e0152\"],[0.1,\"#c51b7d\"],[0.2,\"#de77ae\"],[0.3,\"#f1b6da\"],[0.4,\"#fde0ef\"],[0.5,\"#f7f7f7\"],[0.6,\"#e6f5d0\"],[0.7,\"#b8e186\"],[0.8,\"#7fbc41\"],[0.9,\"#4d9221\"],[1,\"#276419\"]]},\"xaxis\":{\"gridcolor\":\"white\",\"linecolor\":\"white\",\"ticks\":\"\",\"title\":{\"standoff\":15},\"zerolinecolor\":\"white\",\"automargin\":true,\"zerolinewidth\":2},\"yaxis\":{\"gridcolor\":\"white\",\"linecolor\":\"white\",\"ticks\":\"\",\"title\":{\"standoff\":15},\"zerolinecolor\":\"white\",\"automargin\":true,\"zerolinewidth\":2},\"scene\":{\"xaxis\":{\"backgroundcolor\":\"#E5ECF6\",\"gridcolor\":\"white\",\"linecolor\":\"white\",\"showbackground\":true,\"ticks\":\"\",\"zerolinecolor\":\"white\",\"gridwidth\":2},\"yaxis\":{\"backgroundcolor\":\"#E5ECF6\",\"gridcolor\":\"white\",\"linecolor\":\"white\",\"showbackground\":true,\"ticks\":\"\",\"zerolinecolor\":\"white\",\"gridwidth\":2},\"zaxis\":{\"backgroundcolor\":\"#E5ECF6\",\"gridcolor\":\"white\",\"linecolor\":\"white\",\"showbackground\":true,\"ticks\":\"\",\"zerolinecolor\":\"white\",\"gridwidth\":2}},\"shapedefaults\":{\"line\":{\"color\":\"#2a3f5f\"}},\"annotationdefaults\":{\"arrowcolor\":\"#2a3f5f\",\"arrowhead\":0,\"arrowwidth\":1},\"geo\":{\"bgcolor\":\"white\",\"landcolor\":\"#E5ECF6\",\"subunitcolor\":\"white\",\"showland\":true,\"showlakes\":true,\"lakecolor\":\"white\"},\"title\":{\"x\":0.05},\"mapbox\":{\"style\":\"light\"}}},\"xaxis\":{\"anchor\":\"y\",\"domain\":[0.0,1.0],\"title\":{\"text\":\"batting_team\"}},\"yaxis\":{\"anchor\":\"x\",\"domain\":[0.0,1.0],\"title\":{\"text\":\"total_runs_ipl\"}},\"legend\":{\"tracegroupgap\":0},\"title\":{\"text\":\"Average runs scored by each team in IPL 2022\"},\"barmode\":\"relative\",\"width\":900,\"height\":500},                        {\"responsive\": true}                    ).then(function(){\n",
       "                            \n",
       "var gd = document.getElementById('1b98738e-77f0-4871-9f94-276fc7f01a4b');\n",
       "var x = new MutationObserver(function (mutations, observer) {{\n",
       "        var display = window.getComputedStyle(gd).display;\n",
       "        if (!display || display === 'none') {{\n",
       "            console.log([gd, 'removed!']);\n",
       "            Plotly.purge(gd);\n",
       "            observer.disconnect();\n",
       "        }}\n",
       "}});\n",
       "\n",
       "// Listen for the removal of the full notebook cells\n",
       "var notebookContainer = gd.closest('#notebook-container');\n",
       "if (notebookContainer) {{\n",
       "    x.observe(notebookContainer, {childList: true});\n",
       "}}\n",
       "\n",
       "// Listen for the clearing of the current output cell\n",
       "var outputEl = gd.closest('.output');\n",
       "if (outputEl) {{\n",
       "    x.observe(outputEl, {childList: true});\n",
       "}}\n",
       "\n",
       "                        })                };                });            </script>        </div>"
      ]
     },
     "metadata": {},
     "output_type": "display_data"
    }
   ],
   "source": [
    "# average runs scored by each team \n",
    "\n",
    "avg_run_by_team = data.groupby(\"batting_team\")['total_runs_ipl'].mean().reset_index()\n",
    "avg_run_by_team = avg_run_by_team.sort_values(by=\"total_runs_ipl\", ascending=False)\n",
    "fig = px.bar(avg_run_by_team, x=\"batting_team\", y=\"total_runs_ipl\", title=\"Average runs scored by each team in IPL 2022\")\n",
    "fig.update_layout(width=900, height=500)\n",
    "fig.show()"
   ]
  },
  {
   "cell_type": "code",
   "execution_count": 207,
   "id": "f8dae55e",
   "metadata": {},
   "outputs": [
    {
     "name": "stdout",
     "output_type": "stream",
     "text": [
      "total wickets taken in ipl 2022 is = 911\n"
     ]
    },
    {
     "data": {
      "image/png": "[encoded data removed]",
      "text/plain": [
       "<Figure size 640x480 with 1 Axes>"
      ]
     },
     "metadata": {},
     "output_type": "display_data"
    }
   ],
   "source": [
    "# total wicket take  by each team \n",
    "\n",
    "#total wicket in ipl \n",
    "#types of wicket\n",
    "#['caught' 'stumped' 'runout' 'bowled' 'lbw' 'retired out' 'hit wicket']\n",
    "\n",
    "\n",
    "\n",
    "types = ['caught', 'stumped', 'runout', 'bowled', 'lbw', 'retired out', 'hit wicket']\n",
    "total_wickets_ipl= 0\n",
    "for i in data[\"wicket_type\"]:\n",
    "    if i in types:\n",
    "        total_wickets_ipl += 1\n",
    "print(f\"total wickets taken in ipl 2022 is = {total_wickets_ipl}\")\n",
    "\n",
    "#this wixkets generate the data in which there is no nan values only valid values \n",
    "wickets=data[data[\"wicket_type\"].notnull()]\n",
    "# wickets\n",
    "\n",
    "#total wicket taken by each team\n",
    "\n",
    "team_wicket=wickets.groupby(\"bowling_team\")[\"wicket_type\"].count().reset_index()\n",
    "team_wicket=team_wicket.sort_values(by=\"wicket_type\",ascending=False)\n",
    "sns.barplot(x=\"bowling_team\",y=\"wicket_type\", data=team_wicket,palette=\"magma\")\n",
    "plt.title(\"total wicket taken by each team \",fontsize=14)\n",
    "plt.xlabel(\"Teams\",fontsize=14)\n",
    "plt.ylabel(\"Total wicket\",fontsize=14)\n",
    "plt.show()\n",
    "\n",
    "\n"
   ]
  },
  {
   "cell_type": "code",
   "execution_count": 215,
   "id": "b31f3fb2",
   "metadata": {},
   "outputs": [
    {
     "data": {
      "image/png": "[encoded data removed]",
      "text/plain": [
       "<Figure size 640x480 with 1 Axes>"
      ]
     },
     "metadata": {},
     "output_type": "display_data"
    }
   ],
   "source": [
    "# average runs per  over by each team\n",
    "data.head()\n",
    "team_runs_per_over=data.groupby(['batting_team','over'])['total_runs_ipl'].sum().reset_index()\n",
    "team_avg_runs_per_over=team_runs_per_over.groupby('batting_team')['total_runs_ipl'].mean().reset_index()\n",
    "team_avg_runs_per_over=team_avg_runs_per_over.sort_values(by='total_runs_ipl',ascending=False)\n",
    "\n",
    "sns.barplot(x=\"batting_team\",y=\"total_runs_ipl\",data=team_avg_runs_per_over,palette='coolwarm')\n",
    "\n",
    "plt.title(\"average runs per over by each team \")\n",
    "plt.xlabel(\"team\")\n",
    "plt.ylabel(\"average runs per over\")\n",
    "plt.show()"
   ]
  },
  {
   "cell_type": "code",
   "execution_count": 235,
   "id": "1aa2054e",
   "metadata": {},
   "outputs": [
    {
     "name": "stdout",
     "output_type": "stream",
     "text": [
      "top scorer for the ipl 2022\n",
      "             striker  runs_of_bat\n",
      "22           Buttler          863\n",
      "110            Rahul          616\n",
      "171          de Kock          508\n",
      "40     Hardik Pandya          487\n",
      "144     Shubman Gill          483\n",
      "80            Miller          481\n",
      "172       du Plessis          468\n",
      "31            Dhawan          460\n",
      "129           Samson          458\n",
      "48             Hooda          451\n",
      "70       Livingstone          437\n",
      "166           Warner          432\n",
      "4    Abhishek Sharma          426\n",
      "51      Ishan Kishan          418\n",
      "154         Tripathi          413\n",
      "143     Shreyas Iyer          401\n",
      "152      Tilak Varma          397\n",
      "76           Markram          381\n",
      "96          Padikkal          376\n",
      "38           Gaikwad          368\n"
     ]
    },
    {
     "data": {
      "image/png": "[encoded data removed]",
      "text/plain": [
       "<Figure size 3000x600 with 1 Axes>"
      ]
     },
     "metadata": {},
     "output_type": "display_data"
    },
    {
     "name": "stdout",
     "output_type": "stream",
     "text": [
      "poor scorer of ipl 2022\n",
      "              striker  runs_of_bat\n",
      "90      Navdeep Saini            2\n",
      "52          J Suchith            2\n",
      "35   Fazalhaq Farooqi            2\n",
      "147           Southee            2\n",
      "43       Harshit Rana            2\n",
      "130           Sangwan            2\n",
      "93             Nortje            1\n",
      "27       Coulter-Nile            1\n",
      "89       Nathan Ellis            0\n",
      "119      Ravi Bishnoi            0\n",
      "21             Bumrah            0\n",
      "10         Anukul Roy            0\n",
      "156       Tymal Mills            0\n",
      "65        Kuldeep Sen            0\n",
      "39            Gowtham            0\n",
      "79           Meredith            0\n",
      "170        Yash Dayal            0\n",
      "5          Akash Deep            0\n",
      "131      Sanjay Yadav            0\n",
      "62      Khaleel Ahmed            0\n"
     ]
    },
    {
     "data": {
      "image/png": "[encoded data removed]",
      "text/plain": [
       "<Figure size 3000x600 with 1 Axes>"
      ]
     },
     "metadata": {},
     "output_type": "display_data"
    }
   ],
   "source": [
    "#top 20 batsmen in ipl run wise here batsmen is denoted as striker\n",
    "batsmen_runs=data.groupby(\"striker\")['runs_of_bat'].sum().reset_index()\n",
    "\n",
    "#in this if you remove the head(20) then it will print all the batsmen \n",
    "print(\"top scorer for the ipl 2022\")\n",
    "top_batsmen_runs=batsmen_runs.sort_values(by='runs_of_bat', ascending=False).head(20)\n",
    "print(top_batsmen_runs.head(20))\n",
    "\n",
    "plt.figure(figsize=(30, 6))\n",
    "sns.barplot(x=\"striker\",y=\"runs_of_bat\",data=top_batsmen_runs,palette=\"coolwarm\")\n",
    "plt.title(\"top scorer for ipl 2022\",fontsize=20)\n",
    "plt.xlabel(\"batsmen\",fontsize=20)\n",
    "plt.ylabel(\"runs scored\",fontsize=20)\n",
    "plt.show()\n",
    "\n",
    "\n",
    "#in this last 20 batsmen who performed very poorely\n",
    "print(\"poor scorer of ipl 2022\")\n",
    "poor_batsmen_runs=batsmen_runs.sort_values(by='runs_of_bat', ascending=False).tail(20)\n",
    "print(poor_batsmen_runs.tail(20))\n",
    "plt.figure(figsize=(30, 6))\n",
    "sns.barplot(x=\"striker\",y=\"runs_of_bat\",data=poor_batsmen_runs,palette=\"coolwarm\")\n",
    "plt.title(\"top scorer for ipl 2022\",fontsize=20)\n",
    "plt.xlabel(\"batsmen\",fontsize=20)\n",
    "plt.ylabel(\"runs scored\",fontsize=20)\n",
    "plt.show()"
   ]
  },
  {
   "cell_type": "code",
   "execution_count": 240,
   "id": "9260cad7",
   "metadata": {},
   "outputs": [
    {
     "data": {
      "text/html": [
       "<div>\n",
       "<style scoped>\n",
       "    .dataframe tbody tr th:only-of-type {\n",
       "        vertical-align: middle;\n",
       "    }\n",
       "\n",
       "    .dataframe tbody tr th {\n",
       "        vertical-align: top;\n",
       "    }\n",
       "\n",
       "    .dataframe thead th {\n",
       "        text-align: right;\n",
       "    }\n",
       "</style>\n",
       "<table border=\"1\" class=\"dataframe\">\n",
       "  <thead>\n",
       "    <tr style=\"text-align: right;\">\n",
       "      <th></th>\n",
       "      <th>striker</th>\n",
       "      <th>T</th>\n",
       "      <th>M</th>\n",
       "      <th>runs</th>\n",
       "      <th>sr</th>\n",
       "    </tr>\n",
       "  </thead>\n",
       "  <tbody>\n",
       "    <tr>\n",
       "      <th>1</th>\n",
       "      <td>Buttler</td>\n",
       "      <td>RR</td>\n",
       "      <td>17</td>\n",
       "      <td>863</td>\n",
       "      <td>144.798658</td>\n",
       "    </tr>\n",
       "    <tr>\n",
       "      <th>2</th>\n",
       "      <td>Rahul</td>\n",
       "      <td>LSG</td>\n",
       "      <td>14</td>\n",
       "      <td>616</td>\n",
       "      <td>131.063830</td>\n",
       "    </tr>\n",
       "    <tr>\n",
       "      <th>3</th>\n",
       "      <td>de Kock</td>\n",
       "      <td>LSG</td>\n",
       "      <td>15</td>\n",
       "      <td>508</td>\n",
       "      <td>145.558739</td>\n",
       "    </tr>\n",
       "    <tr>\n",
       "      <th>4</th>\n",
       "      <td>Hardik Pandya</td>\n",
       "      <td>GT</td>\n",
       "      <td>15</td>\n",
       "      <td>487</td>\n",
       "      <td>125.839793</td>\n",
       "    </tr>\n",
       "    <tr>\n",
       "      <th>5</th>\n",
       "      <td>Shubman Gill</td>\n",
       "      <td>GT</td>\n",
       "      <td>16</td>\n",
       "      <td>483</td>\n",
       "      <td>129.144385</td>\n",
       "    </tr>\n",
       "    <tr>\n",
       "      <th>6</th>\n",
       "      <td>Miller</td>\n",
       "      <td>GT</td>\n",
       "      <td>16</td>\n",
       "      <td>481</td>\n",
       "      <td>138.218391</td>\n",
       "    </tr>\n",
       "    <tr>\n",
       "      <th>7</th>\n",
       "      <td>du Plessis</td>\n",
       "      <td>RCB</td>\n",
       "      <td>16</td>\n",
       "      <td>468</td>\n",
       "      <td>124.137931</td>\n",
       "    </tr>\n",
       "    <tr>\n",
       "      <th>8</th>\n",
       "      <td>Dhawan</td>\n",
       "      <td>PBKS</td>\n",
       "      <td>14</td>\n",
       "      <td>460</td>\n",
       "      <td>117.048346</td>\n",
       "    </tr>\n",
       "    <tr>\n",
       "      <th>9</th>\n",
       "      <td>Samson</td>\n",
       "      <td>RR</td>\n",
       "      <td>17</td>\n",
       "      <td>458</td>\n",
       "      <td>142.679128</td>\n",
       "    </tr>\n",
       "    <tr>\n",
       "      <th>10</th>\n",
       "      <td>Hooda</td>\n",
       "      <td>LSG</td>\n",
       "      <td>14</td>\n",
       "      <td>451</td>\n",
       "      <td>132.647059</td>\n",
       "    </tr>\n",
       "    <tr>\n",
       "      <th>11</th>\n",
       "      <td>Livingstone</td>\n",
       "      <td>PBKS</td>\n",
       "      <td>14</td>\n",
       "      <td>437</td>\n",
       "      <td>168.725869</td>\n",
       "    </tr>\n",
       "    <tr>\n",
       "      <th>12</th>\n",
       "      <td>Warner</td>\n",
       "      <td>DC</td>\n",
       "      <td>12</td>\n",
       "      <td>432</td>\n",
       "      <td>143.521595</td>\n",
       "    </tr>\n",
       "    <tr>\n",
       "      <th>13</th>\n",
       "      <td>Abhishek Sharma</td>\n",
       "      <td>SRH</td>\n",
       "      <td>14</td>\n",
       "      <td>426</td>\n",
       "      <td>129.483283</td>\n",
       "    </tr>\n",
       "    <tr>\n",
       "      <th>14</th>\n",
       "      <td>Ishan Kishan</td>\n",
       "      <td>MI</td>\n",
       "      <td>14</td>\n",
       "      <td>418</td>\n",
       "      <td>117.746479</td>\n",
       "    </tr>\n",
       "    <tr>\n",
       "      <th>15</th>\n",
       "      <td>Tripathi</td>\n",
       "      <td>SRH</td>\n",
       "      <td>14</td>\n",
       "      <td>413</td>\n",
       "      <td>152.962963</td>\n",
       "    </tr>\n",
       "    <tr>\n",
       "      <th>16</th>\n",
       "      <td>Shreyas Iyer</td>\n",
       "      <td>KKR</td>\n",
       "      <td>14</td>\n",
       "      <td>401</td>\n",
       "      <td>129.354839</td>\n",
       "    </tr>\n",
       "    <tr>\n",
       "      <th>17</th>\n",
       "      <td>Tilak Varma</td>\n",
       "      <td>MI</td>\n",
       "      <td>14</td>\n",
       "      <td>397</td>\n",
       "      <td>126.837061</td>\n",
       "    </tr>\n",
       "    <tr>\n",
       "      <th>18</th>\n",
       "      <td>Markram</td>\n",
       "      <td>SRH</td>\n",
       "      <td>12</td>\n",
       "      <td>381</td>\n",
       "      <td>137.545126</td>\n",
       "    </tr>\n",
       "    <tr>\n",
       "      <th>19</th>\n",
       "      <td>Padikkal</td>\n",
       "      <td>RR</td>\n",
       "      <td>17</td>\n",
       "      <td>376</td>\n",
       "      <td>118.611987</td>\n",
       "    </tr>\n",
       "    <tr>\n",
       "      <th>20</th>\n",
       "      <td>Gaikwad</td>\n",
       "      <td>CSK</td>\n",
       "      <td>14</td>\n",
       "      <td>368</td>\n",
       "      <td>123.489933</td>\n",
       "    </tr>\n",
       "  </tbody>\n",
       "</table>\n",
       "</div>"
      ],
      "text/plain": [
       "            striker     T   M  runs          sr\n",
       "1           Buttler    RR  17   863  144.798658\n",
       "2             Rahul   LSG  14   616  131.063830\n",
       "3           de Kock   LSG  15   508  145.558739\n",
       "4     Hardik Pandya    GT  15   487  125.839793\n",
       "5      Shubman Gill    GT  16   483  129.144385\n",
       "6            Miller    GT  16   481  138.218391\n",
       "7        du Plessis   RCB  16   468  124.137931\n",
       "8            Dhawan  PBKS  14   460  117.048346\n",
       "9            Samson    RR  17   458  142.679128\n",
       "10            Hooda   LSG  14   451  132.647059\n",
       "11      Livingstone  PBKS  14   437  168.725869\n",
       "12           Warner    DC  12   432  143.521595\n",
       "13  Abhishek Sharma   SRH  14   426  129.483283\n",
       "14     Ishan Kishan    MI  14   418  117.746479\n",
       "15         Tripathi   SRH  14   413  152.962963\n",
       "16     Shreyas Iyer   KKR  14   401  129.354839\n",
       "17      Tilak Varma    MI  14   397  126.837061\n",
       "18          Markram   SRH  12   381  137.545126\n",
       "19         Padikkal    RR  17   376  118.611987\n",
       "20          Gaikwad   CSK  14   368  123.489933"
      ]
     },
     "execution_count": 240,
     "metadata": {},
     "output_type": "execute_result"
    }
   ],
   "source": [
    "#top scorer in ipl 2022 with team , runs, and strike rate\n",
    "top_run_scorer=data.groupby(\"striker\").agg(T=('batting_team',lambda x:x.unique()[0]),\n",
    "                                             M=('match_id',lambda x:len(x.unique())),\n",
    "                                            runs=(\"runs_of_bat\",\"sum\"),\n",
    "                                          sr=(\"runs_of_bat\",lambda x:(x.mean()*100)),\n",
    "                                          ).sort_values(by=[\"runs\",\"sr\"],ascending=False).reset_index()\n",
    "top_run_scorer.index+=1\n",
    "top_run_scorer[:20]\n"
   ]
  },
  {
   "cell_type": "code",
   "execution_count": 275,
   "id": "4bd2cba6",
   "metadata": {},
   "outputs": [
    {
     "data": {
      "text/html": [
       "<div>\n",
       "<style scoped>\n",
       "    .dataframe tbody tr th:only-of-type {\n",
       "        vertical-align: middle;\n",
       "    }\n",
       "\n",
       "    .dataframe tbody tr th {\n",
       "        vertical-align: top;\n",
       "    }\n",
       "\n",
       "    .dataframe thead th {\n",
       "        text-align: right;\n",
       "    }\n",
       "</style>\n",
       "<table border=\"1\" class=\"dataframe\">\n",
       "  <thead>\n",
       "    <tr style=\"text-align: right;\">\n",
       "      <th></th>\n",
       "      <th>striker</th>\n",
       "      <th>runs_of_bat</th>\n",
       "    </tr>\n",
       "  </thead>\n",
       "  <tbody>\n",
       "    <tr>\n",
       "      <th>1</th>\n",
       "      <td>Buttler</td>\n",
       "      <td>84</td>\n",
       "    </tr>\n",
       "    <tr>\n",
       "      <th>2</th>\n",
       "      <td>Warner</td>\n",
       "      <td>52</td>\n",
       "    </tr>\n",
       "    <tr>\n",
       "      <th>3</th>\n",
       "      <td>Shubman Gill</td>\n",
       "      <td>51</td>\n",
       "    </tr>\n",
       "    <tr>\n",
       "      <th>4</th>\n",
       "      <td>du Plessis</td>\n",
       "      <td>49</td>\n",
       "    </tr>\n",
       "    <tr>\n",
       "      <th>5</th>\n",
       "      <td>Hardik Pandya</td>\n",
       "      <td>49</td>\n",
       "    </tr>\n",
       "    <tr>\n",
       "      <th>6</th>\n",
       "      <td>Abhishek Sharma</td>\n",
       "      <td>47</td>\n",
       "    </tr>\n",
       "    <tr>\n",
       "      <th>7</th>\n",
       "      <td>de Kock</td>\n",
       "      <td>47</td>\n",
       "    </tr>\n",
       "    <tr>\n",
       "      <th>8</th>\n",
       "      <td>Dhawan</td>\n",
       "      <td>47</td>\n",
       "    </tr>\n",
       "    <tr>\n",
       "      <th>9</th>\n",
       "      <td>Rahul</td>\n",
       "      <td>45</td>\n",
       "    </tr>\n",
       "    <tr>\n",
       "      <th>10</th>\n",
       "      <td>Ishan Kishan</td>\n",
       "      <td>45</td>\n",
       "    </tr>\n",
       "  </tbody>\n",
       "</table>\n",
       "</div>"
      ],
      "text/plain": [
       "            striker  runs_of_bat\n",
       "1           Buttler           84\n",
       "2            Warner           52\n",
       "3      Shubman Gill           51\n",
       "4        du Plessis           49\n",
       "5     Hardik Pandya           49\n",
       "6   Abhishek Sharma           47\n",
       "7           de Kock           47\n",
       "8            Dhawan           47\n",
       "9             Rahul           45\n",
       "10     Ishan Kishan           45"
      ]
     },
     "execution_count": 275,
     "metadata": {},
     "output_type": "execute_result"
    }
   ],
   "source": [
    "# top batsmen boundary wise\n",
    "\n",
    "#top batsmen with maximum four \n",
    "fours=data[data[\"runs_of_bat\"]==4].groupby(\"striker\")[\"runs_of_bat\"].count().reset_index()\n",
    "fours=fours.sort_values(by=\"runs_of_bat\",ascending=False).head(10)\n",
    "fours.reset_index(drop=True ,inplace=True)\n",
    "fours.index+=1\n",
    "fours\n"
   ]
  },
  {
   "cell_type": "code",
   "execution_count": 274,
   "id": "b641930e",
   "metadata": {},
   "outputs": [
    {
     "data": {
      "text/html": [
       "<div>\n",
       "<style scoped>\n",
       "    .dataframe tbody tr th:only-of-type {\n",
       "        vertical-align: middle;\n",
       "    }\n",
       "\n",
       "    .dataframe tbody tr th {\n",
       "        vertical-align: top;\n",
       "    }\n",
       "\n",
       "    .dataframe thead th {\n",
       "        text-align: right;\n",
       "    }\n",
       "</style>\n",
       "<table border=\"1\" class=\"dataframe\">\n",
       "  <thead>\n",
       "    <tr style=\"text-align: right;\">\n",
       "      <th></th>\n",
       "      <th>striker</th>\n",
       "      <th>runs_of_bat</th>\n",
       "    </tr>\n",
       "  </thead>\n",
       "  <tbody>\n",
       "    <tr>\n",
       "      <th>1</th>\n",
       "      <td>Buttler</td>\n",
       "      <td>45</td>\n",
       "    </tr>\n",
       "    <tr>\n",
       "      <th>2</th>\n",
       "      <td>Livingstone</td>\n",
       "      <td>34</td>\n",
       "    </tr>\n",
       "    <tr>\n",
       "      <th>3</th>\n",
       "      <td>Russell</td>\n",
       "      <td>32</td>\n",
       "    </tr>\n",
       "    <tr>\n",
       "      <th>4</th>\n",
       "      <td>Rahul</td>\n",
       "      <td>30</td>\n",
       "    </tr>\n",
       "    <tr>\n",
       "      <th>5</th>\n",
       "      <td>Samson</td>\n",
       "      <td>26</td>\n",
       "    </tr>\n",
       "    <tr>\n",
       "      <th>6</th>\n",
       "      <td>Miller</td>\n",
       "      <td>23</td>\n",
       "    </tr>\n",
       "    <tr>\n",
       "      <th>7</th>\n",
       "      <td>de Kock</td>\n",
       "      <td>23</td>\n",
       "    </tr>\n",
       "    <tr>\n",
       "      <th>8</th>\n",
       "      <td>Nitish Rana</td>\n",
       "      <td>22</td>\n",
       "    </tr>\n",
       "    <tr>\n",
       "      <th>9</th>\n",
       "      <td>Karthik</td>\n",
       "      <td>22</td>\n",
       "    </tr>\n",
       "    <tr>\n",
       "      <th>10</th>\n",
       "      <td>Powell</td>\n",
       "      <td>22</td>\n",
       "    </tr>\n",
       "  </tbody>\n",
       "</table>\n",
       "</div>"
      ],
      "text/plain": [
       "        striker  runs_of_bat\n",
       "1       Buttler           45\n",
       "2   Livingstone           34\n",
       "3       Russell           32\n",
       "4         Rahul           30\n",
       "5        Samson           26\n",
       "6        Miller           23\n",
       "7       de Kock           23\n",
       "8   Nitish Rana           22\n",
       "9       Karthik           22\n",
       "10       Powell           22"
      ]
     },
     "execution_count": 274,
     "metadata": {},
     "output_type": "execute_result"
    }
   ],
   "source": [
    "\n",
    "#top batsmen with maximum sixes\n",
    "sixes=data[data[\"runs_of_bat\"]==6].groupby(\"striker\")[\"runs_of_bat\"].count().reset_index()\n",
    "sixes=sixes.sort_values(by=\"runs_of_bat\",ascending=False).head(10)\n",
    "sixes.reset_index(drop=True ,inplace=True)\n",
    "sixes.index+=1\n",
    "sixes"
   ]
  },
  {
   "cell_type": "code",
   "execution_count": 272,
   "id": "ae16aca0",
   "metadata": {},
   "outputs": [
    {
     "name": "stdout",
     "output_type": "stream",
     "text": [
      "            striker  fours  sixes  total_boundary\n",
      "1           Buttler   84.0   45.0           129.0\n",
      "2             Rahul   45.0   30.0            75.0\n",
      "3           de Kock   47.0   23.0            70.0\n",
      "4            Samson   43.0   26.0            69.0\n",
      "5            Warner   52.0   15.0            67.0\n",
      "6       Livingstone   29.0   34.0            63.0\n",
      "7        du Plessis   49.0   13.0            62.0\n",
      "8      Shubman Gill   51.0   11.0            62.0\n",
      "9     Hardik Pandya   49.0   12.0            61.0\n",
      "10  Abhishek Sharma   47.0   13.0            60.0\n"
     ]
    }
   ],
   "source": [
    "#maximum baoundary  by batsmen\n",
    "\n",
    "\n",
    "fours=data[data[\"runs_of_bat\"]==4].groupby(\"striker\")[\"runs_of_bat\"].count().reset_index()\n",
    "fours=fours.sort_values(by=\"runs_of_bat\",ascending=False)\n",
    "\n",
    "#this line changes the runs_of_bats to fours so that its easy to interpret \n",
    "fours.rename(columns={'runs_of_bat': 'fours'}, inplace=True)\n",
    "\n",
    "sixes=data[data[\"runs_of_bat\"]==6].groupby(\"striker\")[\"runs_of_bat\"].count().reset_index()\n",
    "sixes=sixes.sort_values(by=\"runs_of_bat\",ascending=False)\n",
    "\n",
    "#this line changes the runs_of_bats to sixes so that its easy to interpret \n",
    "sixes.rename(columns={'runs_of_bat': 'sixes'}, inplace=True)\n",
    "\n",
    "boundary=pd.merge(fours,sixes,on=\"striker\",how=\"outer\").fillna(0)\n",
    "boundary[\"total_boundary\"]=boundary[\"fours\"]+boundary[\"sixes\"]\n",
    "boundary=boundary.sort_values(by=\"total_boundary\", ascending=0).head(10)\n",
    "boundary.reset_index(drop=True, inplace=True)\n",
    "boundary.index += 1\n",
    "print(boundary)\n",
    "\n",
    "\n"
   ]
  },
  {
   "cell_type": "code",
   "execution_count": 299,
   "id": "dad7e07a",
   "metadata": {},
   "outputs": [
    {
     "data": {
      "image/png": "[encoded data removed]",
      "text/plain": [
       "<Figure size 3000x1500 with 1 Axes>"
      ]
     },
     "metadata": {},
     "output_type": "display_data"
    }
   ],
   "source": [
    "# bowlers who was hit by maximum baoundaries\n",
    "\n",
    "\n",
    "fours=data[data[\"runs_of_bat\"]==4].groupby(\"bowler\")[\"runs_of_bat\"].count().reset_index()\n",
    "fours.rename(columns={'runs_of_bat': 'fours'}, inplace=True)\n",
    "# fours.head(10)\n",
    "\n",
    "sixes=data[data[\"runs_of_bat\"]==6].groupby(\"bowler\")[\"runs_of_bat\"].count().reset_index()\n",
    "sixes.rename(columns={'runs_of_bat': 'sixes'}, inplace=True)\n",
    "# sixes.head(10)\n",
    "\n",
    "plt.figure(figsize=(30, 15))\n",
    "boundary=pd.merge(fours,sixes,on=\"bowler\",how=\"outer\").fillna(0)\n",
    "boundary[\"total_boundary\"]=boundary[\"fours\"]+boundary[\"sixes\"]\n",
    "boundary=boundary.sort_values(by=\"total_boundary\",ascending=False)\n",
    "top=boundary.head(10)\n",
    "\n",
    "sns.barplot(x=\"bowler\",y=\"total_boundary\",data=top)\n",
    "plt.xlabel(\"bowler\",fontsize=20)\n",
    "plt.ylabel(\"boundaries\",fontsize=20)\n",
    "plt.show()"
   ]
  },
  {
   "cell_type": "code",
   "execution_count": 314,
   "id": "471e54be",
   "metadata": {},
   "outputs": [
    {
     "data": {
      "image/png": "[encoded data removed]",
      "text/plain": [
       "<Figure size 3000x1500 with 1 Axes>"
      ]
     },
     "metadata": {},
     "output_type": "display_data"
    }
   ],
   "source": [
    "#top bolwers who conceded least runs\n",
    "bowlers=data.groupby(\"bowler\")[\"runs_of_bat\"].sum().reset_index()\n",
    "bowlers=bowlers.sort_values(by=\"runs_of_bat\",ascending=False).head(10)\n",
    "bowlers.reset_index(drop=True, inplace=True)\n",
    "bowlers.index+=1\n",
    "bowlers.head(10)\n",
    "\n",
    "#graph showing the bowlers with maximum runs\n",
    "plt.figure(figsize=(30, 15))\n",
    "sns.barplot(x=\"bowler\",y=\"runs_of_bat\",data=bowlers)\n",
    "plt.xlabel(\"bowlers\",fontsize=20)\n",
    "plt.ylabel(\"runs conceded\", fontsize=20)\n",
    "plt.title(\"Bowlers who conceded maximum runs\",fontsize=20)\n",
    "plt.show()"
   ]
  },
  {
   "cell_type": "code",
   "execution_count": 333,
   "id": "4c2119af",
   "metadata": {},
   "outputs": [
    {
     "data": {
      "image/png": "[encoded data removed]",
      "text/plain": [
       "<Figure size 1500x600 with 1 Axes>"
      ]
     },
     "metadata": {},
     "output_type": "display_data"
    }
   ],
   "source": [
    "#top bowlers by economy rate \n",
    "\n",
    "#calculating the numbers of over bowled by each bowler\n",
    "ball_bowled=data.groupby(\"bowler\")[\"match_id\"].count().reset_index()\n",
    "ball_bowled.columns=[\"bowler\",\"bowls_bowled\"]\n",
    "ball_bowled[\"over\"]=ball_bowled[\"bowls_bowled\"]/6\n",
    "ball_bowled\n",
    "\n",
    "#calculating the runs conceded by the each bowler\n",
    "bowler_runs_conceded=data.groupby(\"bowler\")[\"runs_of_bat\"].sum().reset_index()\n",
    "bowler_runs_conceded\n",
    "\n",
    "\n",
    "#calculating the economy of bowler\n",
    "bowler_economy=pd.merge(ball_bowled,bowler_runs_conceded,on=\"bowler\")\n",
    "bowler_economy[\"economy\"]=bowler_economy[\"runs_of_bat\"]/bowler_economy[\"over\"]\n",
    "bowler_economy=bowler_economy.sort_values(by=\"economy\",ascending=True).head(10)\n",
    "bowler_economy.reset_index(drop=True,inplace=True)\n",
    "bowler_economy.index+=1\n",
    "# bowler_economy\n",
    "\n",
    "\n",
    "\n",
    "#making the graph for the best economic bowlers\n",
    "plt.figure(figsize=(15, 6))\n",
    "sns.barplot(x=\"bowler\",y=\"economy\",data=bowler_economy,palette=\"cividis\")\n",
    "plt.title(\"best economic bowlers\")\n",
    "plt.xlabel(\"bowlers\",fontsize=20)\n",
    "plt.xlabel(\"economy\",fontsize=20)\n",
    "plt.show()\n",
    "\n"
   ]
  },
  {
   "cell_type": "code",
   "execution_count": 344,
   "id": "f849e12d",
   "metadata": {},
   "outputs": [
    {
     "data": {
      "text/html": [
       "<div>\n",
       "<style scoped>\n",
       "    .dataframe tbody tr th:only-of-type {\n",
       "        vertical-align: middle;\n",
       "    }\n",
       "\n",
       "    .dataframe tbody tr th {\n",
       "        vertical-align: top;\n",
       "    }\n",
       "\n",
       "    .dataframe thead th {\n",
       "        text-align: right;\n",
       "    }\n",
       "</style>\n",
       "<table border=\"1\" class=\"dataframe\">\n",
       "  <thead>\n",
       "    <tr style=\"text-align: right;\">\n",
       "      <th></th>\n",
       "      <th>index</th>\n",
       "      <th>bowler</th>\n",
       "      <th>extras</th>\n",
       "    </tr>\n",
       "  </thead>\n",
       "  <tbody>\n",
       "    <tr>\n",
       "      <th>1</th>\n",
       "      <td>8</td>\n",
       "      <td>Arshdeep Singh</td>\n",
       "      <td>38</td>\n",
       "    </tr>\n",
       "    <tr>\n",
       "      <th>2</th>\n",
       "      <td>9</td>\n",
       "      <td>Ashwin</td>\n",
       "      <td>20</td>\n",
       "    </tr>\n",
       "    <tr>\n",
       "      <th>3</th>\n",
       "      <td>5</td>\n",
       "      <td>Alzarri Joseph</td>\n",
       "      <td>11</td>\n",
       "    </tr>\n",
       "    <tr>\n",
       "      <th>4</th>\n",
       "      <td>4</td>\n",
       "      <td>Akash Deep</td>\n",
       "      <td>5</td>\n",
       "    </tr>\n",
       "    <tr>\n",
       "      <th>5</th>\n",
       "      <td>0</td>\n",
       "      <td>Aaron</td>\n",
       "      <td>4</td>\n",
       "    </tr>\n",
       "    <tr>\n",
       "      <th>6</th>\n",
       "      <td>1</td>\n",
       "      <td>Abbott</td>\n",
       "      <td>3</td>\n",
       "    </tr>\n",
       "    <tr>\n",
       "      <th>7</th>\n",
       "      <td>3</td>\n",
       "      <td>Abhishek Sharma</td>\n",
       "      <td>1</td>\n",
       "    </tr>\n",
       "    <tr>\n",
       "      <th>8</th>\n",
       "      <td>2</td>\n",
       "      <td>Abdul Samad</td>\n",
       "      <td>0</td>\n",
       "    </tr>\n",
       "    <tr>\n",
       "      <th>9</th>\n",
       "      <td>6</td>\n",
       "      <td>Aman Hakim Khan</td>\n",
       "      <td>0</td>\n",
       "    </tr>\n",
       "    <tr>\n",
       "      <th>10</th>\n",
       "      <td>7</td>\n",
       "      <td>Anukul Roy</td>\n",
       "      <td>0</td>\n",
       "    </tr>\n",
       "  </tbody>\n",
       "</table>\n",
       "</div>"
      ],
      "text/plain": [
       "    index           bowler  extras\n",
       "1       8   Arshdeep Singh      38\n",
       "2       9           Ashwin      20\n",
       "3       5   Alzarri Joseph      11\n",
       "4       4       Akash Deep       5\n",
       "5       0            Aaron       4\n",
       "6       1           Abbott       3\n",
       "7       3  Abhishek Sharma       1\n",
       "8       2      Abdul Samad       0\n",
       "9       6  Aman Hakim Khan       0\n",
       "10      7       Anukul Roy       0"
      ]
     },
     "execution_count": 344,
     "metadata": {},
     "output_type": "execute_result"
    }
   ],
   "source": [
    "# facts about bowlers\n",
    "#bowler who gave maximum extra runs \n",
    "top_extras_bowlers=data.groupby(\"bowler\")[\"extras\"].sum().reset_index().head(10)\n",
    "top_extras_bowlers=top_extras_bowlers.sort_values(by=\"extras\",ascending=False)\n",
    "top_extras_bowlers.reset_index(drop=False,inplace=True)\n",
    "top_extras_bowlers.index+=1\n",
    "top_extras_bowlers"
   ]
  },
  {
   "cell_type": "code",
   "execution_count": 345,
   "id": "533249f2",
   "metadata": {},
   "outputs": [
    {
     "data": {
      "text/html": [
       "<div>\n",
       "<style scoped>\n",
       "    .dataframe tbody tr th:only-of-type {\n",
       "        vertical-align: middle;\n",
       "    }\n",
       "\n",
       "    .dataframe tbody tr th {\n",
       "        vertical-align: top;\n",
       "    }\n",
       "\n",
       "    .dataframe thead th {\n",
       "        text-align: right;\n",
       "    }\n",
       "</style>\n",
       "<table border=\"1\" class=\"dataframe\">\n",
       "  <thead>\n",
       "    <tr style=\"text-align: right;\">\n",
       "      <th></th>\n",
       "      <th>index</th>\n",
       "      <th>bowler</th>\n",
       "      <th>wide</th>\n",
       "    </tr>\n",
       "  </thead>\n",
       "  <tbody>\n",
       "    <tr>\n",
       "      <th>1</th>\n",
       "      <td>9</td>\n",
       "      <td>Ashwin</td>\n",
       "      <td>15</td>\n",
       "    </tr>\n",
       "    <tr>\n",
       "      <th>2</th>\n",
       "      <td>8</td>\n",
       "      <td>Arshdeep Singh</td>\n",
       "      <td>13</td>\n",
       "    </tr>\n",
       "    <tr>\n",
       "      <th>3</th>\n",
       "      <td>5</td>\n",
       "      <td>Alzarri Joseph</td>\n",
       "      <td>4</td>\n",
       "    </tr>\n",
       "    <tr>\n",
       "      <th>4</th>\n",
       "      <td>0</td>\n",
       "      <td>Aaron</td>\n",
       "      <td>3</td>\n",
       "    </tr>\n",
       "    <tr>\n",
       "      <th>5</th>\n",
       "      <td>1</td>\n",
       "      <td>Abbott</td>\n",
       "      <td>3</td>\n",
       "    </tr>\n",
       "    <tr>\n",
       "      <th>6</th>\n",
       "      <td>4</td>\n",
       "      <td>Akash Deep</td>\n",
       "      <td>2</td>\n",
       "    </tr>\n",
       "    <tr>\n",
       "      <th>7</th>\n",
       "      <td>2</td>\n",
       "      <td>Abdul Samad</td>\n",
       "      <td>0</td>\n",
       "    </tr>\n",
       "    <tr>\n",
       "      <th>8</th>\n",
       "      <td>3</td>\n",
       "      <td>Abhishek Sharma</td>\n",
       "      <td>0</td>\n",
       "    </tr>\n",
       "    <tr>\n",
       "      <th>9</th>\n",
       "      <td>6</td>\n",
       "      <td>Aman Hakim Khan</td>\n",
       "      <td>0</td>\n",
       "    </tr>\n",
       "    <tr>\n",
       "      <th>10</th>\n",
       "      <td>7</td>\n",
       "      <td>Anukul Roy</td>\n",
       "      <td>0</td>\n",
       "    </tr>\n",
       "  </tbody>\n",
       "</table>\n",
       "</div>"
      ],
      "text/plain": [
       "    index           bowler  wide\n",
       "1       9           Ashwin    15\n",
       "2       8   Arshdeep Singh    13\n",
       "3       5   Alzarri Joseph     4\n",
       "4       0            Aaron     3\n",
       "5       1           Abbott     3\n",
       "6       4       Akash Deep     2\n",
       "7       2      Abdul Samad     0\n",
       "8       3  Abhishek Sharma     0\n",
       "9       6  Aman Hakim Khan     0\n",
       "10      7       Anukul Roy     0"
      ]
     },
     "execution_count": 345,
     "metadata": {},
     "output_type": "execute_result"
    }
   ],
   "source": [
    "#bolwer who threw maximum wide bowls\n",
    "maximum_wide=data.groupby(\"bowler\")[\"wide\"].sum().reset_index().head(10)\n",
    "maximum_wide=maximum_wide.sort_values(by=\"wide\",ascending=False)\n",
    "maximum_wide.reset_index(drop=False,inplace=True)\n",
    "maximum_wide.index+=1\n",
    "maximum_wide\n"
   ]
  },
  {
   "cell_type": "code",
   "execution_count": 363,
   "id": "0ee4e369",
   "metadata": {},
   "outputs": [
    {
     "data": {
      "text/html": [
       "<div>\n",
       "<style scoped>\n",
       "    .dataframe tbody tr th:only-of-type {\n",
       "        vertical-align: middle;\n",
       "    }\n",
       "\n",
       "    .dataframe tbody tr th {\n",
       "        vertical-align: top;\n",
       "    }\n",
       "\n",
       "    .dataframe thead th {\n",
       "        text-align: right;\n",
       "    }\n",
       "</style>\n",
       "<table border=\"1\" class=\"dataframe\">\n",
       "  <thead>\n",
       "    <tr style=\"text-align: right;\">\n",
       "      <th></th>\n",
       "      <th>venue</th>\n",
       "      <th>match_id</th>\n",
       "      <th>runs_of_bat</th>\n",
       "    </tr>\n",
       "  </thead>\n",
       "  <tbody>\n",
       "    <tr>\n",
       "      <th>7</th>\n",
       "      <td>Brabourne Stadium, Mumbai</td>\n",
       "      <td>202230</td>\n",
       "      <td>398</td>\n",
       "    </tr>\n",
       "    <tr>\n",
       "      <th>1</th>\n",
       "      <td>Brabourne Stadium, Mumbai</td>\n",
       "      <td>202207</td>\n",
       "      <td>388</td>\n",
       "    </tr>\n",
       "    <tr>\n",
       "      <th>3</th>\n",
       "      <td>Brabourne Stadium, Mumbai</td>\n",
       "      <td>202216</td>\n",
       "      <td>368</td>\n",
       "    </tr>\n",
       "    <tr>\n",
       "      <th>4</th>\n",
       "      <td>Brabourne Stadium, Mumbai</td>\n",
       "      <td>202219</td>\n",
       "      <td>364</td>\n",
       "    </tr>\n",
       "    <tr>\n",
       "      <th>6</th>\n",
       "      <td>Brabourne Stadium, Mumbai</td>\n",
       "      <td>202226</td>\n",
       "      <td>357</td>\n",
       "    </tr>\n",
       "    <tr>\n",
       "      <th>0</th>\n",
       "      <td>Brabourne Stadium, Mumbai</td>\n",
       "      <td>202202</td>\n",
       "      <td>342</td>\n",
       "    </tr>\n",
       "    <tr>\n",
       "      <th>5</th>\n",
       "      <td>Brabourne Stadium, Mumbai</td>\n",
       "      <td>202225</td>\n",
       "      <td>330</td>\n",
       "    </tr>\n",
       "    <tr>\n",
       "      <th>2</th>\n",
       "      <td>Brabourne Stadium, Mumbai</td>\n",
       "      <td>202211</td>\n",
       "      <td>288</td>\n",
       "    </tr>\n",
       "    <tr>\n",
       "      <th>8</th>\n",
       "      <td>Brabourne Stadium, Mumbai</td>\n",
       "      <td>202232</td>\n",
       "      <td>226</td>\n",
       "    </tr>\n",
       "    <tr>\n",
       "      <th>9</th>\n",
       "      <td>Brabourne Stadium, Mumbai</td>\n",
       "      <td>202236</td>\n",
       "      <td>126</td>\n",
       "    </tr>\n",
       "  </tbody>\n",
       "</table>\n",
       "</div>"
      ],
      "text/plain": [
       "                       venue  match_id  runs_of_bat\n",
       "7  Brabourne Stadium, Mumbai    202230          398\n",
       "1  Brabourne Stadium, Mumbai    202207          388\n",
       "3  Brabourne Stadium, Mumbai    202216          368\n",
       "4  Brabourne Stadium, Mumbai    202219          364\n",
       "6  Brabourne Stadium, Mumbai    202226          357\n",
       "0  Brabourne Stadium, Mumbai    202202          342\n",
       "5  Brabourne Stadium, Mumbai    202225          330\n",
       "2  Brabourne Stadium, Mumbai    202211          288\n",
       "8  Brabourne Stadium, Mumbai    202232          226\n",
       "9  Brabourne Stadium, Mumbai    202236          126"
      ]
     },
     "execution_count": 363,
     "metadata": {},
     "output_type": "execute_result"
    }
   ],
   "source": [
    "#top venue based on the run scored\n",
    "top_venue=data.groupby([\"venue\",\"match_id\"])[\"runs_of_bat\"].sum().reset_index().head(10)\n",
    "top_venue=top_venue.sort_values(by=\"runs_of_bat\",ascending=False)\n",
    "top_venue"
   ]
  },
  {
   "cell_type": "code",
   "execution_count": 364,
   "id": "5b57de9a",
   "metadata": {},
   "outputs": [
    {
     "data": {
      "text/plain": [
       "342"
      ]
     },
     "execution_count": 364,
     "metadata": {},
     "output_type": "execute_result"
    }
   ],
   "source": [
    "#verify the above data by just checking how many runs scored at match id 202202\n",
    "total=data[data[\"match_id\"]==202202][\"runs_of_bat\"].sum()\n",
    "total\n",
    "\n"
   ]
  },
  {
   "cell_type": "code",
   "execution_count": 425,
   "id": "9ea1fd01",
   "metadata": {},
   "outputs": [
    {
     "data": {
      "text/html": [
       "<div>\n",
       "<style scoped>\n",
       "    .dataframe tbody tr th:only-of-type {\n",
       "        vertical-align: middle;\n",
       "    }\n",
       "\n",
       "    .dataframe tbody tr th {\n",
       "        vertical-align: top;\n",
       "    }\n",
       "\n",
       "    .dataframe thead th {\n",
       "        text-align: right;\n",
       "    }\n",
       "</style>\n",
       "<table border=\"1\" class=\"dataframe\">\n",
       "  <thead>\n",
       "    <tr style=\"text-align: right;\">\n",
       "      <th></th>\n",
       "      <th>venue</th>\n",
       "      <th>maximum runs</th>\n",
       "      <th>minimum runs</th>\n",
       "    </tr>\n",
       "  </thead>\n",
       "  <tbody>\n",
       "    <tr>\n",
       "      <th>6</th>\n",
       "      <td>Wankhede Stadium, Mumbai</td>\n",
       "      <td>411</td>\n",
       "      <td>175</td>\n",
       "    </tr>\n",
       "    <tr>\n",
       "      <th>2</th>\n",
       "      <td>Dr DY Patil Sports Academy, Mumbai</td>\n",
       "      <td>406</td>\n",
       "      <td>240</td>\n",
       "    </tr>\n",
       "    <tr>\n",
       "      <th>1</th>\n",
       "      <td>Brabourne Stadium, Mumbai</td>\n",
       "      <td>398</td>\n",
       "      <td>126</td>\n",
       "    </tr>\n",
       "    <tr>\n",
       "      <th>4</th>\n",
       "      <td>Maharashtra Cricket Association Stadium, Pune</td>\n",
       "      <td>377</td>\n",
       "      <td>216</td>\n",
       "    </tr>\n",
       "    <tr>\n",
       "      <th>3</th>\n",
       "      <td>Eden Gardens, Kolkata</td>\n",
       "      <td>368</td>\n",
       "      <td>355</td>\n",
       "    </tr>\n",
       "    <tr>\n",
       "      <th>5</th>\n",
       "      <td>Narendra Modi Stadium, Ahmedabad</td>\n",
       "      <td>303</td>\n",
       "      <td>252</td>\n",
       "    </tr>\n",
       "  </tbody>\n",
       "</table>\n",
       "</div>"
      ],
      "text/plain": [
       "                                           venue  maximum runs  minimum runs\n",
       "6                       Wankhede Stadium, Mumbai           411           175\n",
       "2             Dr DY Patil Sports Academy, Mumbai           406           240\n",
       "1                      Brabourne Stadium, Mumbai           398           126\n",
       "4  Maharashtra Cricket Association Stadium, Pune           377           216\n",
       "3                          Eden Gardens, Kolkata           368           355\n",
       "5               Narendra Modi Stadium, Ahmedabad           303           252"
      ]
     },
     "execution_count": 425,
     "metadata": {},
     "output_type": "execute_result"
    }
   ],
   "source": [
    "# venues with their maximum and minimum runs scored\n",
    "# maxi_mini=data.groupby([\"venue\",\"match_id\"])[\"runs_of_bat\"].sum()\n",
    "# print(maxi_mini)\n",
    "\n",
    "venue_runs = data.groupby([\"venue\", \"match_id\"])[\"runs_of_bat\"].sum().reset_index()\n",
    "\n",
    "max_runs = venue_runs.groupby(\"venue\")[\"runs_of_bat\"].max().reset_index()\n",
    "max_runs.rename(columns={'runs_of_bat': 'maximum runs'}, inplace=True)\n",
    "\n",
    "min_runs = venue_runs.groupby(\"venue\")[\"runs_of_bat\"].min().reset_index()\n",
    "min_runs.rename(columns={'runs_of_bat': 'minimum runs'}, inplace=True)\n",
    "\n",
    "all_detail = pd.merge(max_runs, min_runs, on=\"venue\")\n",
    "all_detail = all_detail.sort_values(by=\"maximum runs\", ascending=False)\n",
    "all_detail.index += 1\n",
    "all_detail\n"
   ]
  },
  {
   "cell_type": "code",
   "execution_count": 429,
   "id": "415a9a82",
   "metadata": {},
   "outputs": [
    {
     "data": {
      "text/html": [
       "<div>\n",
       "<style scoped>\n",
       "    .dataframe tbody tr th:only-of-type {\n",
       "        vertical-align: middle;\n",
       "    }\n",
       "\n",
       "    .dataframe tbody tr th {\n",
       "        vertical-align: top;\n",
       "    }\n",
       "\n",
       "    .dataframe thead th {\n",
       "        text-align: right;\n",
       "    }\n",
       "</style>\n",
       "<table border=\"1\" class=\"dataframe\">\n",
       "  <thead>\n",
       "    <tr style=\"text-align: right;\">\n",
       "      <th></th>\n",
       "      <th>match_id</th>\n",
       "      <th>runs_of_bat</th>\n",
       "    </tr>\n",
       "  </thead>\n",
       "  <tbody>\n",
       "    <tr>\n",
       "      <th>0</th>\n",
       "      <td>202201</td>\n",
       "      <td>25</td>\n",
       "    </tr>\n",
       "    <tr>\n",
       "      <th>1</th>\n",
       "      <td>202207</td>\n",
       "      <td>21</td>\n",
       "    </tr>\n",
       "    <tr>\n",
       "      <th>2</th>\n",
       "      <td>202211</td>\n",
       "      <td>31</td>\n",
       "    </tr>\n",
       "    <tr>\n",
       "      <th>3</th>\n",
       "      <td>202217</td>\n",
       "      <td>21</td>\n",
       "    </tr>\n",
       "    <tr>\n",
       "      <th>4</th>\n",
       "      <td>202222</td>\n",
       "      <td>39</td>\n",
       "    </tr>\n",
       "    <tr>\n",
       "      <th>5</th>\n",
       "      <td>202229</td>\n",
       "      <td>25</td>\n",
       "    </tr>\n",
       "    <tr>\n",
       "      <th>6</th>\n",
       "      <td>202233</td>\n",
       "      <td>30</td>\n",
       "    </tr>\n",
       "    <tr>\n",
       "      <th>7</th>\n",
       "      <td>202238</td>\n",
       "      <td>16</td>\n",
       "    </tr>\n",
       "    <tr>\n",
       "      <th>8</th>\n",
       "      <td>202246</td>\n",
       "      <td>15</td>\n",
       "    </tr>\n",
       "    <tr>\n",
       "      <th>9</th>\n",
       "      <td>202249</td>\n",
       "      <td>20</td>\n",
       "    </tr>\n",
       "  </tbody>\n",
       "</table>\n",
       "</div>"
      ],
      "text/plain": [
       "   match_id  runs_of_bat\n",
       "0    202201           25\n",
       "1    202207           21\n",
       "2    202211           31\n",
       "3    202217           21\n",
       "4    202222           39\n",
       "5    202229           25\n",
       "6    202233           30\n",
       "7    202238           16\n",
       "8    202246           15\n",
       "9    202249           20"
      ]
     },
     "execution_count": 429,
     "metadata": {},
     "output_type": "execute_result"
    }
   ],
   "source": [
    "jadeja=data[data[\"bowler\"]==\"Jadeja\"].reset_index()\n",
    "jadeja\n",
    "run=jadeja.groupby(\"match_id\")[\"runs_of_bat\"].sum().reset_index()\n",
    "run"
   ]
  },
  {
   "cell_type": "code",
   "execution_count": 439,
   "id": "c4ebb360",
   "metadata": {},
   "outputs": [
    {
     "name": "stdout",
     "output_type": "stream",
     "text": [
      "                                           venue  match_id  runs_of_bat\n",
      "0                      Brabourne Stadium, Mumbai    202207           17\n",
      "1                      Brabourne Stadium, Mumbai    202211            0\n",
      "2             Dr DY Patil Sports Academy, Mumbai    202217           23\n",
      "3             Dr DY Patil Sports Academy, Mumbai    202222            0\n",
      "4             Dr DY Patil Sports Academy, Mumbai    202233            3\n",
      "5  Maharashtra Cricket Association Stadium, Pune    202229           22\n",
      "6  Maharashtra Cricket Association Stadium, Pune    202246            1\n",
      "7  Maharashtra Cricket Association Stadium, Pune    202249            3\n",
      "8                       Wankhede Stadium, Mumbai    202201           26\n",
      "9                       Wankhede Stadium, Mumbai    202238           21\n"
     ]
    }
   ],
   "source": [
    "#virat kohli analysis\n",
    "kohli=data[data[\"striker\"]==\"Jadeja\"].reset_index()\n",
    "# print(kohli)\n",
    "runs_at_matches=kohli.groupby([\"venue\",\"match_id\"])[\"runs_of_bat\"].sum().reset_index()\n",
    "print(runs_at_matches)\n",
    "\n",
    "\n"
   ]
  },
  {
   "cell_type": "code",
   "execution_count": 440,
   "id": "f653aec3",
   "metadata": {},
   "outputs": [
    {
     "name": "stderr",
     "output_type": "stream",
     "text": [
      "D:\\anaconda\\Lib\\site-packages\\seaborn\\_oldcore.py:1119: FutureWarning:\n",
      "\n",
      "use_inf_as_na option is deprecated and will be removed in a future version. Convert inf values to NaN before operating instead.\n",
      "\n",
      "D:\\anaconda\\Lib\\site-packages\\seaborn\\_oldcore.py:1119: FutureWarning:\n",
      "\n",
      "use_inf_as_na option is deprecated and will be removed in a future version. Convert inf values to NaN before operating instead.\n",
      "\n"
     ]
    },
    {
     "data": {
      "image/png": "[encoded data removed]",
      "text/plain": [
       "<Figure size 1200x600 with 1 Axes>"
      ]
     },
     "metadata": {},
     "output_type": "display_data"
    }
   ],
   "source": [
    "plt.figure(figsize=(12, 6))\n",
    "sns.lineplot(x=\"match_id\",y=\"runs_of_bat\",data=runs_at_matches,marker=\"o\",color=\"blue\")\n",
    "plt.title(\"Virat Kohli's Performance in IPL 2022\")\n",
    "plt.xlabel('Match ID')\n",
    "plt.ylabel('Runs Scored')\n",
    "plt.xticks(rotation=90)\n",
    "plt.show()"
   ]
  }
 ],
 "metadata": {
  "kernelspec": {
   "display_name": "Python 3 (ipykernel)",
   "language": "python",
   "name": "python3"
  },
  "language_info": {
   "codemirror_mode": {
    "name": "ipython",
    "version": 3
   },
   "file_extension": ".py",
   "mimetype": "text/x-python",
   "name": "python",
   "nbconvert_exporter": "python",
   "pygments_lexer": "ipython3",
   "version": "3.11.7"
  }
 },
 "nbformat": 4,
 "nbformat_minor": 5
}
